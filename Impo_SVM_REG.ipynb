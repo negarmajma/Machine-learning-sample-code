{
  "nbformat": 4,
  "nbformat_minor": 0,
  "metadata": {
    "colab": {
      "name": "Impo_SVM_REG.ipynb",
      "provenance": [],
      "authorship_tag": "ABX9TyMynEq5i9Bi3Bhi1w6RNUKA",
      "include_colab_link": true
    },
    "kernelspec": {
      "name": "python3",
      "display_name": "Python 3"
    },
    "language_info": {
      "name": "python"
    }
  },
  "cells": [
    {
      "cell_type": "markdown",
      "metadata": {
        "id": "view-in-github",
        "colab_type": "text"
      },
      "source": [
        "<a href=\"https://colab.research.google.com/github/negarmajma/Machine-learning-sample-code/blob/main/Impo_SVM_REG.ipynb\" target=\"_parent\"><img src=\"https://colab.research.google.com/assets/colab-badge.svg\" alt=\"Open In Colab\"/></a>"
      ]
    },
    {
      "cell_type": "code",
      "execution_count": null,
      "metadata": {
        "id": "unoyW3fxKy3f"
      },
      "outputs": [],
      "source": [
        "import numpy as np\n",
        "import pandas as pd\n",
        "import seaborn as sns\n",
        "import matplotlib.pyplot as plt"
      ]
    },
    {
      "cell_type": "code",
      "source": [
        "df=pd.read_csv(\"Movie_regression.csv\", header=0)"
      ],
      "metadata": {
        "id": "UX0FBJtCLuwz"
      },
      "execution_count": null,
      "outputs": []
    },
    {
      "cell_type": "code",
      "source": [
        "df.head()"
      ],
      "metadata": {
        "colab": {
          "base_uri": "https://localhost:8080/",
          "height": 288
        },
        "id": "ykxtVHktMuZu",
        "outputId": "8d37b244-c241-4eb2-9b25-bf73d2e216fe"
      },
      "execution_count": null,
      "outputs": [
        {
          "output_type": "execute_result",
          "data": {
            "text/plain": [
              "   Marketing expense  Production expense  Multiplex coverage     Budget  \\\n",
              "0            20.1264               59.62               0.462  36524.125   \n",
              "1            20.5462               69.14               0.531  35668.655   \n",
              "2            20.5458               69.14               0.531  39912.675   \n",
              "3            20.6474               59.36               0.542  38873.890   \n",
              "4            21.3810               59.36               0.542  39701.585   \n",
              "\n",
              "   Movie_length  Lead_ Actor_Rating  Lead_Actress_rating  Director_rating  \\\n",
              "0         138.7               7.825                8.095            7.910   \n",
              "1         152.4               7.505                7.650            7.440   \n",
              "2         134.6               7.485                7.570            7.495   \n",
              "3         119.3               6.895                7.035            6.920   \n",
              "4         127.7               6.920                7.070            6.815   \n",
              "\n",
              "   Producer_rating  Critic_rating  Trailer_views 3D_available  Time_taken  \\\n",
              "0            7.995           7.94         527367          YES      109.60   \n",
              "1            7.470           7.44         494055           NO      146.64   \n",
              "2            7.515           7.44         547051           NO      147.88   \n",
              "3            7.020           8.26         516279          YES      185.36   \n",
              "4            7.070           8.26         531448           NO      176.48   \n",
              "\n",
              "   Twitter_hastags     Genre  Avg_age_actors  Num_multiplex  Collection  \n",
              "0          223.840  Thriller              23            494       48000  \n",
              "1          243.456     Drama              42            462       43200  \n",
              "2         2022.400    Comedy              38            458       69400  \n",
              "3          225.344     Drama              45            472       66800  \n",
              "4          225.792     Drama              55            395       72400  "
            ],
            "text/html": [
              "\n",
              "  <div id=\"df-24d3b84d-664b-4c83-9215-497f9dee7bf3\">\n",
              "    <div class=\"colab-df-container\">\n",
              "      <div>\n",
              "<style scoped>\n",
              "    .dataframe tbody tr th:only-of-type {\n",
              "        vertical-align: middle;\n",
              "    }\n",
              "\n",
              "    .dataframe tbody tr th {\n",
              "        vertical-align: top;\n",
              "    }\n",
              "\n",
              "    .dataframe thead th {\n",
              "        text-align: right;\n",
              "    }\n",
              "</style>\n",
              "<table border=\"1\" class=\"dataframe\">\n",
              "  <thead>\n",
              "    <tr style=\"text-align: right;\">\n",
              "      <th></th>\n",
              "      <th>Marketing expense</th>\n",
              "      <th>Production expense</th>\n",
              "      <th>Multiplex coverage</th>\n",
              "      <th>Budget</th>\n",
              "      <th>Movie_length</th>\n",
              "      <th>Lead_ Actor_Rating</th>\n",
              "      <th>Lead_Actress_rating</th>\n",
              "      <th>Director_rating</th>\n",
              "      <th>Producer_rating</th>\n",
              "      <th>Critic_rating</th>\n",
              "      <th>Trailer_views</th>\n",
              "      <th>3D_available</th>\n",
              "      <th>Time_taken</th>\n",
              "      <th>Twitter_hastags</th>\n",
              "      <th>Genre</th>\n",
              "      <th>Avg_age_actors</th>\n",
              "      <th>Num_multiplex</th>\n",
              "      <th>Collection</th>\n",
              "    </tr>\n",
              "  </thead>\n",
              "  <tbody>\n",
              "    <tr>\n",
              "      <th>0</th>\n",
              "      <td>20.1264</td>\n",
              "      <td>59.62</td>\n",
              "      <td>0.462</td>\n",
              "      <td>36524.125</td>\n",
              "      <td>138.7</td>\n",
              "      <td>7.825</td>\n",
              "      <td>8.095</td>\n",
              "      <td>7.910</td>\n",
              "      <td>7.995</td>\n",
              "      <td>7.94</td>\n",
              "      <td>527367</td>\n",
              "      <td>YES</td>\n",
              "      <td>109.60</td>\n",
              "      <td>223.840</td>\n",
              "      <td>Thriller</td>\n",
              "      <td>23</td>\n",
              "      <td>494</td>\n",
              "      <td>48000</td>\n",
              "    </tr>\n",
              "    <tr>\n",
              "      <th>1</th>\n",
              "      <td>20.5462</td>\n",
              "      <td>69.14</td>\n",
              "      <td>0.531</td>\n",
              "      <td>35668.655</td>\n",
              "      <td>152.4</td>\n",
              "      <td>7.505</td>\n",
              "      <td>7.650</td>\n",
              "      <td>7.440</td>\n",
              "      <td>7.470</td>\n",
              "      <td>7.44</td>\n",
              "      <td>494055</td>\n",
              "      <td>NO</td>\n",
              "      <td>146.64</td>\n",
              "      <td>243.456</td>\n",
              "      <td>Drama</td>\n",
              "      <td>42</td>\n",
              "      <td>462</td>\n",
              "      <td>43200</td>\n",
              "    </tr>\n",
              "    <tr>\n",
              "      <th>2</th>\n",
              "      <td>20.5458</td>\n",
              "      <td>69.14</td>\n",
              "      <td>0.531</td>\n",
              "      <td>39912.675</td>\n",
              "      <td>134.6</td>\n",
              "      <td>7.485</td>\n",
              "      <td>7.570</td>\n",
              "      <td>7.495</td>\n",
              "      <td>7.515</td>\n",
              "      <td>7.44</td>\n",
              "      <td>547051</td>\n",
              "      <td>NO</td>\n",
              "      <td>147.88</td>\n",
              "      <td>2022.400</td>\n",
              "      <td>Comedy</td>\n",
              "      <td>38</td>\n",
              "      <td>458</td>\n",
              "      <td>69400</td>\n",
              "    </tr>\n",
              "    <tr>\n",
              "      <th>3</th>\n",
              "      <td>20.6474</td>\n",
              "      <td>59.36</td>\n",
              "      <td>0.542</td>\n",
              "      <td>38873.890</td>\n",
              "      <td>119.3</td>\n",
              "      <td>6.895</td>\n",
              "      <td>7.035</td>\n",
              "      <td>6.920</td>\n",
              "      <td>7.020</td>\n",
              "      <td>8.26</td>\n",
              "      <td>516279</td>\n",
              "      <td>YES</td>\n",
              "      <td>185.36</td>\n",
              "      <td>225.344</td>\n",
              "      <td>Drama</td>\n",
              "      <td>45</td>\n",
              "      <td>472</td>\n",
              "      <td>66800</td>\n",
              "    </tr>\n",
              "    <tr>\n",
              "      <th>4</th>\n",
              "      <td>21.3810</td>\n",
              "      <td>59.36</td>\n",
              "      <td>0.542</td>\n",
              "      <td>39701.585</td>\n",
              "      <td>127.7</td>\n",
              "      <td>6.920</td>\n",
              "      <td>7.070</td>\n",
              "      <td>6.815</td>\n",
              "      <td>7.070</td>\n",
              "      <td>8.26</td>\n",
              "      <td>531448</td>\n",
              "      <td>NO</td>\n",
              "      <td>176.48</td>\n",
              "      <td>225.792</td>\n",
              "      <td>Drama</td>\n",
              "      <td>55</td>\n",
              "      <td>395</td>\n",
              "      <td>72400</td>\n",
              "    </tr>\n",
              "  </tbody>\n",
              "</table>\n",
              "</div>\n",
              "      <button class=\"colab-df-convert\" onclick=\"convertToInteractive('df-24d3b84d-664b-4c83-9215-497f9dee7bf3')\"\n",
              "              title=\"Convert this dataframe to an interactive table.\"\n",
              "              style=\"display:none;\">\n",
              "        \n",
              "  <svg xmlns=\"http://www.w3.org/2000/svg\" height=\"24px\"viewBox=\"0 0 24 24\"\n",
              "       width=\"24px\">\n",
              "    <path d=\"M0 0h24v24H0V0z\" fill=\"none\"/>\n",
              "    <path d=\"M18.56 5.44l.94 2.06.94-2.06 2.06-.94-2.06-.94-.94-2.06-.94 2.06-2.06.94zm-11 1L8.5 8.5l.94-2.06 2.06-.94-2.06-.94L8.5 2.5l-.94 2.06-2.06.94zm10 10l.94 2.06.94-2.06 2.06-.94-2.06-.94-.94-2.06-.94 2.06-2.06.94z\"/><path d=\"M17.41 7.96l-1.37-1.37c-.4-.4-.92-.59-1.43-.59-.52 0-1.04.2-1.43.59L10.3 9.45l-7.72 7.72c-.78.78-.78 2.05 0 2.83L4 21.41c.39.39.9.59 1.41.59.51 0 1.02-.2 1.41-.59l7.78-7.78 2.81-2.81c.8-.78.8-2.07 0-2.86zM5.41 20L4 18.59l7.72-7.72 1.47 1.35L5.41 20z\"/>\n",
              "  </svg>\n",
              "      </button>\n",
              "      \n",
              "  <style>\n",
              "    .colab-df-container {\n",
              "      display:flex;\n",
              "      flex-wrap:wrap;\n",
              "      gap: 12px;\n",
              "    }\n",
              "\n",
              "    .colab-df-convert {\n",
              "      background-color: #E8F0FE;\n",
              "      border: none;\n",
              "      border-radius: 50%;\n",
              "      cursor: pointer;\n",
              "      display: none;\n",
              "      fill: #1967D2;\n",
              "      height: 32px;\n",
              "      padding: 0 0 0 0;\n",
              "      width: 32px;\n",
              "    }\n",
              "\n",
              "    .colab-df-convert:hover {\n",
              "      background-color: #E2EBFA;\n",
              "      box-shadow: 0px 1px 2px rgba(60, 64, 67, 0.3), 0px 1px 3px 1px rgba(60, 64, 67, 0.15);\n",
              "      fill: #174EA6;\n",
              "    }\n",
              "\n",
              "    [theme=dark] .colab-df-convert {\n",
              "      background-color: #3B4455;\n",
              "      fill: #D2E3FC;\n",
              "    }\n",
              "\n",
              "    [theme=dark] .colab-df-convert:hover {\n",
              "      background-color: #434B5C;\n",
              "      box-shadow: 0px 1px 3px 1px rgba(0, 0, 0, 0.15);\n",
              "      filter: drop-shadow(0px 1px 2px rgba(0, 0, 0, 0.3));\n",
              "      fill: #FFFFFF;\n",
              "    }\n",
              "  </style>\n",
              "\n",
              "      <script>\n",
              "        const buttonEl =\n",
              "          document.querySelector('#df-24d3b84d-664b-4c83-9215-497f9dee7bf3 button.colab-df-convert');\n",
              "        buttonEl.style.display =\n",
              "          google.colab.kernel.accessAllowed ? 'block' : 'none';\n",
              "\n",
              "        async function convertToInteractive(key) {\n",
              "          const element = document.querySelector('#df-24d3b84d-664b-4c83-9215-497f9dee7bf3');\n",
              "          const dataTable =\n",
              "            await google.colab.kernel.invokeFunction('convertToInteractive',\n",
              "                                                     [key], {});\n",
              "          if (!dataTable) return;\n",
              "\n",
              "          const docLinkHtml = 'Like what you see? Visit the ' +\n",
              "            '<a target=\"_blank\" href=https://colab.research.google.com/notebooks/data_table.ipynb>data table notebook</a>'\n",
              "            + ' to learn more about interactive tables.';\n",
              "          element.innerHTML = '';\n",
              "          dataTable['output_type'] = 'display_data';\n",
              "          await google.colab.output.renderOutput(dataTable, element);\n",
              "          const docLink = document.createElement('div');\n",
              "          docLink.innerHTML = docLinkHtml;\n",
              "          element.appendChild(docLink);\n",
              "        }\n",
              "      </script>\n",
              "    </div>\n",
              "  </div>\n",
              "  "
            ]
          },
          "metadata": {},
          "execution_count": 12
        }
      ]
    },
    {
      "cell_type": "code",
      "source": [
        "df.info()"
      ],
      "metadata": {
        "colab": {
          "base_uri": "https://localhost:8080/"
        },
        "id": "K4J0b5a7Mvyl",
        "outputId": "e8fa69af-c61e-4dc2-a6ba-3c53ab165c6c"
      },
      "execution_count": null,
      "outputs": [
        {
          "output_type": "stream",
          "name": "stdout",
          "text": [
            "<class 'pandas.core.frame.DataFrame'>\n",
            "RangeIndex: 506 entries, 0 to 505\n",
            "Data columns (total 18 columns):\n",
            " #   Column               Non-Null Count  Dtype  \n",
            "---  ------               --------------  -----  \n",
            " 0   Marketing expense    506 non-null    float64\n",
            " 1   Production expense   506 non-null    float64\n",
            " 2   Multiplex coverage   506 non-null    float64\n",
            " 3   Budget               506 non-null    float64\n",
            " 4   Movie_length         506 non-null    float64\n",
            " 5   Lead_ Actor_Rating   506 non-null    float64\n",
            " 6   Lead_Actress_rating  506 non-null    float64\n",
            " 7   Director_rating      506 non-null    float64\n",
            " 8   Producer_rating      506 non-null    float64\n",
            " 9   Critic_rating        506 non-null    float64\n",
            " 10  Trailer_views        506 non-null    int64  \n",
            " 11  3D_available         506 non-null    object \n",
            " 12  Time_taken           494 non-null    float64\n",
            " 13  Twitter_hastags      506 non-null    float64\n",
            " 14  Genre                506 non-null    object \n",
            " 15  Avg_age_actors       506 non-null    int64  \n",
            " 16  Num_multiplex        506 non-null    int64  \n",
            " 17  Collection           506 non-null    int64  \n",
            "dtypes: float64(12), int64(4), object(2)\n",
            "memory usage: 71.3+ KB\n"
          ]
        }
      ]
    },
    {
      "cell_type": "code",
      "source": [
        "df=pd.get_dummies(df,columns=[\"3D_available\",\"Genre\"],drop_first=True)"
      ],
      "metadata": {
        "id": "GHROHs5URXwb"
      },
      "execution_count": null,
      "outputs": []
    },
    {
      "cell_type": "code",
      "source": [
        "df['Time_taken'].mean()\n",
        "df['Time_taken'].fillna(value=df['Time_taken'].mean(),inplace=True)"
      ],
      "metadata": {
        "id": "u7dPh4htZm3w"
      },
      "execution_count": null,
      "outputs": []
    },
    {
      "cell_type": "markdown",
      "source": [
        "x-y split"
      ],
      "metadata": {
        "id": "ZGGu1vdTRYQC"
      }
    },
    {
      "cell_type": "code",
      "source": [
        "x=df.loc[:,df.columns!='Collection']\n",
        "y=df['Collection']"
      ],
      "metadata": {
        "colab": {
          "base_uri": "https://localhost:8080/"
        },
        "id": "PVTCCjnrRaDt",
        "outputId": "2acb71ad-100c-46d1-acff-45be52da6fd9"
      },
      "execution_count": null,
      "outputs": [
        {
          "output_type": "execute_result",
          "data": {
            "text/plain": [
              "pandas.core.frame.DataFrame"
            ]
          },
          "metadata": {},
          "execution_count": 16
        }
      ]
    },
    {
      "cell_type": "code",
      "source": [
        "x.head()"
      ],
      "metadata": {
        "colab": {
          "base_uri": "https://localhost:8080/",
          "height": 288
        },
        "id": "cycLjKE8Rtpb",
        "outputId": "e6a633a0-de22-4df7-e569-a3f336fd35a7"
      },
      "execution_count": null,
      "outputs": [
        {
          "output_type": "execute_result",
          "data": {
            "text/plain": [
              "   Marketing expense  Production expense  Multiplex coverage     Budget  \\\n",
              "0            20.1264               59.62               0.462  36524.125   \n",
              "1            20.5462               69.14               0.531  35668.655   \n",
              "2            20.5458               69.14               0.531  39912.675   \n",
              "3            20.6474               59.36               0.542  38873.890   \n",
              "4            21.3810               59.36               0.542  39701.585   \n",
              "\n",
              "   Movie_length  Lead_ Actor_Rating  Lead_Actress_rating  Director_rating  \\\n",
              "0         138.7               7.825                8.095            7.910   \n",
              "1         152.4               7.505                7.650            7.440   \n",
              "2         134.6               7.485                7.570            7.495   \n",
              "3         119.3               6.895                7.035            6.920   \n",
              "4         127.7               6.920                7.070            6.815   \n",
              "\n",
              "   Producer_rating  Critic_rating  Trailer_views  Time_taken  Twitter_hastags  \\\n",
              "0            7.995           7.94         527367      109.60          223.840   \n",
              "1            7.470           7.44         494055      146.64          243.456   \n",
              "2            7.515           7.44         547051      147.88         2022.400   \n",
              "3            7.020           8.26         516279      185.36          225.344   \n",
              "4            7.070           8.26         531448      176.48          225.792   \n",
              "\n",
              "   Avg_age_actors  Num_multiplex  3D_available_YES  Genre_Comedy  Genre_Drama  \\\n",
              "0              23            494                 1             0            0   \n",
              "1              42            462                 0             0            1   \n",
              "2              38            458                 0             1            0   \n",
              "3              45            472                 1             0            1   \n",
              "4              55            395                 0             0            1   \n",
              "\n",
              "   Genre_Thriller  \n",
              "0               1  \n",
              "1               0  \n",
              "2               0  \n",
              "3               0  \n",
              "4               0  "
            ],
            "text/html": [
              "\n",
              "  <div id=\"df-c20cd7ae-3957-4219-9c19-6cda8d24a32a\">\n",
              "    <div class=\"colab-df-container\">\n",
              "      <div>\n",
              "<style scoped>\n",
              "    .dataframe tbody tr th:only-of-type {\n",
              "        vertical-align: middle;\n",
              "    }\n",
              "\n",
              "    .dataframe tbody tr th {\n",
              "        vertical-align: top;\n",
              "    }\n",
              "\n",
              "    .dataframe thead th {\n",
              "        text-align: right;\n",
              "    }\n",
              "</style>\n",
              "<table border=\"1\" class=\"dataframe\">\n",
              "  <thead>\n",
              "    <tr style=\"text-align: right;\">\n",
              "      <th></th>\n",
              "      <th>Marketing expense</th>\n",
              "      <th>Production expense</th>\n",
              "      <th>Multiplex coverage</th>\n",
              "      <th>Budget</th>\n",
              "      <th>Movie_length</th>\n",
              "      <th>Lead_ Actor_Rating</th>\n",
              "      <th>Lead_Actress_rating</th>\n",
              "      <th>Director_rating</th>\n",
              "      <th>Producer_rating</th>\n",
              "      <th>Critic_rating</th>\n",
              "      <th>Trailer_views</th>\n",
              "      <th>Time_taken</th>\n",
              "      <th>Twitter_hastags</th>\n",
              "      <th>Avg_age_actors</th>\n",
              "      <th>Num_multiplex</th>\n",
              "      <th>3D_available_YES</th>\n",
              "      <th>Genre_Comedy</th>\n",
              "      <th>Genre_Drama</th>\n",
              "      <th>Genre_Thriller</th>\n",
              "    </tr>\n",
              "  </thead>\n",
              "  <tbody>\n",
              "    <tr>\n",
              "      <th>0</th>\n",
              "      <td>20.1264</td>\n",
              "      <td>59.62</td>\n",
              "      <td>0.462</td>\n",
              "      <td>36524.125</td>\n",
              "      <td>138.7</td>\n",
              "      <td>7.825</td>\n",
              "      <td>8.095</td>\n",
              "      <td>7.910</td>\n",
              "      <td>7.995</td>\n",
              "      <td>7.94</td>\n",
              "      <td>527367</td>\n",
              "      <td>109.60</td>\n",
              "      <td>223.840</td>\n",
              "      <td>23</td>\n",
              "      <td>494</td>\n",
              "      <td>1</td>\n",
              "      <td>0</td>\n",
              "      <td>0</td>\n",
              "      <td>1</td>\n",
              "    </tr>\n",
              "    <tr>\n",
              "      <th>1</th>\n",
              "      <td>20.5462</td>\n",
              "      <td>69.14</td>\n",
              "      <td>0.531</td>\n",
              "      <td>35668.655</td>\n",
              "      <td>152.4</td>\n",
              "      <td>7.505</td>\n",
              "      <td>7.650</td>\n",
              "      <td>7.440</td>\n",
              "      <td>7.470</td>\n",
              "      <td>7.44</td>\n",
              "      <td>494055</td>\n",
              "      <td>146.64</td>\n",
              "      <td>243.456</td>\n",
              "      <td>42</td>\n",
              "      <td>462</td>\n",
              "      <td>0</td>\n",
              "      <td>0</td>\n",
              "      <td>1</td>\n",
              "      <td>0</td>\n",
              "    </tr>\n",
              "    <tr>\n",
              "      <th>2</th>\n",
              "      <td>20.5458</td>\n",
              "      <td>69.14</td>\n",
              "      <td>0.531</td>\n",
              "      <td>39912.675</td>\n",
              "      <td>134.6</td>\n",
              "      <td>7.485</td>\n",
              "      <td>7.570</td>\n",
              "      <td>7.495</td>\n",
              "      <td>7.515</td>\n",
              "      <td>7.44</td>\n",
              "      <td>547051</td>\n",
              "      <td>147.88</td>\n",
              "      <td>2022.400</td>\n",
              "      <td>38</td>\n",
              "      <td>458</td>\n",
              "      <td>0</td>\n",
              "      <td>1</td>\n",
              "      <td>0</td>\n",
              "      <td>0</td>\n",
              "    </tr>\n",
              "    <tr>\n",
              "      <th>3</th>\n",
              "      <td>20.6474</td>\n",
              "      <td>59.36</td>\n",
              "      <td>0.542</td>\n",
              "      <td>38873.890</td>\n",
              "      <td>119.3</td>\n",
              "      <td>6.895</td>\n",
              "      <td>7.035</td>\n",
              "      <td>6.920</td>\n",
              "      <td>7.020</td>\n",
              "      <td>8.26</td>\n",
              "      <td>516279</td>\n",
              "      <td>185.36</td>\n",
              "      <td>225.344</td>\n",
              "      <td>45</td>\n",
              "      <td>472</td>\n",
              "      <td>1</td>\n",
              "      <td>0</td>\n",
              "      <td>1</td>\n",
              "      <td>0</td>\n",
              "    </tr>\n",
              "    <tr>\n",
              "      <th>4</th>\n",
              "      <td>21.3810</td>\n",
              "      <td>59.36</td>\n",
              "      <td>0.542</td>\n",
              "      <td>39701.585</td>\n",
              "      <td>127.7</td>\n",
              "      <td>6.920</td>\n",
              "      <td>7.070</td>\n",
              "      <td>6.815</td>\n",
              "      <td>7.070</td>\n",
              "      <td>8.26</td>\n",
              "      <td>531448</td>\n",
              "      <td>176.48</td>\n",
              "      <td>225.792</td>\n",
              "      <td>55</td>\n",
              "      <td>395</td>\n",
              "      <td>0</td>\n",
              "      <td>0</td>\n",
              "      <td>1</td>\n",
              "      <td>0</td>\n",
              "    </tr>\n",
              "  </tbody>\n",
              "</table>\n",
              "</div>\n",
              "      <button class=\"colab-df-convert\" onclick=\"convertToInteractive('df-c20cd7ae-3957-4219-9c19-6cda8d24a32a')\"\n",
              "              title=\"Convert this dataframe to an interactive table.\"\n",
              "              style=\"display:none;\">\n",
              "        \n",
              "  <svg xmlns=\"http://www.w3.org/2000/svg\" height=\"24px\"viewBox=\"0 0 24 24\"\n",
              "       width=\"24px\">\n",
              "    <path d=\"M0 0h24v24H0V0z\" fill=\"none\"/>\n",
              "    <path d=\"M18.56 5.44l.94 2.06.94-2.06 2.06-.94-2.06-.94-.94-2.06-.94 2.06-2.06.94zm-11 1L8.5 8.5l.94-2.06 2.06-.94-2.06-.94L8.5 2.5l-.94 2.06-2.06.94zm10 10l.94 2.06.94-2.06 2.06-.94-2.06-.94-.94-2.06-.94 2.06-2.06.94z\"/><path d=\"M17.41 7.96l-1.37-1.37c-.4-.4-.92-.59-1.43-.59-.52 0-1.04.2-1.43.59L10.3 9.45l-7.72 7.72c-.78.78-.78 2.05 0 2.83L4 21.41c.39.39.9.59 1.41.59.51 0 1.02-.2 1.41-.59l7.78-7.78 2.81-2.81c.8-.78.8-2.07 0-2.86zM5.41 20L4 18.59l7.72-7.72 1.47 1.35L5.41 20z\"/>\n",
              "  </svg>\n",
              "      </button>\n",
              "      \n",
              "  <style>\n",
              "    .colab-df-container {\n",
              "      display:flex;\n",
              "      flex-wrap:wrap;\n",
              "      gap: 12px;\n",
              "    }\n",
              "\n",
              "    .colab-df-convert {\n",
              "      background-color: #E8F0FE;\n",
              "      border: none;\n",
              "      border-radius: 50%;\n",
              "      cursor: pointer;\n",
              "      display: none;\n",
              "      fill: #1967D2;\n",
              "      height: 32px;\n",
              "      padding: 0 0 0 0;\n",
              "      width: 32px;\n",
              "    }\n",
              "\n",
              "    .colab-df-convert:hover {\n",
              "      background-color: #E2EBFA;\n",
              "      box-shadow: 0px 1px 2px rgba(60, 64, 67, 0.3), 0px 1px 3px 1px rgba(60, 64, 67, 0.15);\n",
              "      fill: #174EA6;\n",
              "    }\n",
              "\n",
              "    [theme=dark] .colab-df-convert {\n",
              "      background-color: #3B4455;\n",
              "      fill: #D2E3FC;\n",
              "    }\n",
              "\n",
              "    [theme=dark] .colab-df-convert:hover {\n",
              "      background-color: #434B5C;\n",
              "      box-shadow: 0px 1px 3px 1px rgba(0, 0, 0, 0.15);\n",
              "      filter: drop-shadow(0px 1px 2px rgba(0, 0, 0, 0.3));\n",
              "      fill: #FFFFFF;\n",
              "    }\n",
              "  </style>\n",
              "\n",
              "      <script>\n",
              "        const buttonEl =\n",
              "          document.querySelector('#df-c20cd7ae-3957-4219-9c19-6cda8d24a32a button.colab-df-convert');\n",
              "        buttonEl.style.display =\n",
              "          google.colab.kernel.accessAllowed ? 'block' : 'none';\n",
              "\n",
              "        async function convertToInteractive(key) {\n",
              "          const element = document.querySelector('#df-c20cd7ae-3957-4219-9c19-6cda8d24a32a');\n",
              "          const dataTable =\n",
              "            await google.colab.kernel.invokeFunction('convertToInteractive',\n",
              "                                                     [key], {});\n",
              "          if (!dataTable) return;\n",
              "\n",
              "          const docLinkHtml = 'Like what you see? Visit the ' +\n",
              "            '<a target=\"_blank\" href=https://colab.research.google.com/notebooks/data_table.ipynb>data table notebook</a>'\n",
              "            + ' to learn more about interactive tables.';\n",
              "          element.innerHTML = '';\n",
              "          dataTable['output_type'] = 'display_data';\n",
              "          await google.colab.output.renderOutput(dataTable, element);\n",
              "          const docLink = document.createElement('div');\n",
              "          docLink.innerHTML = docLinkHtml;\n",
              "          element.appendChild(docLink);\n",
              "        }\n",
              "      </script>\n",
              "    </div>\n",
              "  </div>\n",
              "  "
            ]
          },
          "metadata": {},
          "execution_count": 17
        }
      ]
    },
    {
      "cell_type": "code",
      "source": [
        "x.shape"
      ],
      "metadata": {
        "colab": {
          "base_uri": "https://localhost:8080/"
        },
        "id": "dkoBHXAERv9n",
        "outputId": "142a4b70-eb58-4d02-c061-c0ea85d093da"
      },
      "execution_count": null,
      "outputs": [
        {
          "output_type": "execute_result",
          "data": {
            "text/plain": [
              "(506, 19)"
            ]
          },
          "metadata": {},
          "execution_count": 18
        }
      ]
    },
    {
      "cell_type": "code",
      "source": [
        "y=df['Collection']"
      ],
      "metadata": {
        "id": "lZAQmpRGRzLX"
      },
      "execution_count": null,
      "outputs": []
    },
    {
      "cell_type": "code",
      "source": [
        "y.head()"
      ],
      "metadata": {
        "colab": {
          "base_uri": "https://localhost:8080/"
        },
        "id": "BRU15Mg_R63D",
        "outputId": "8e7baeaf-dc86-416e-a7c8-acb0353535c2"
      },
      "execution_count": null,
      "outputs": [
        {
          "output_type": "execute_result",
          "data": {
            "text/plain": [
              "0    48000\n",
              "1    43200\n",
              "2    69400\n",
              "3    66800\n",
              "4    72400\n",
              "Name: Collection, dtype: int64"
            ]
          },
          "metadata": {},
          "execution_count": 20
        }
      ]
    },
    {
      "cell_type": "markdown",
      "source": [
        "**Test-Train split**"
      ],
      "metadata": {
        "id": "57Rse2FkR-MH"
      }
    },
    {
      "cell_type": "code",
      "source": [
        "from sklearn.model_selection import train_test_split"
      ],
      "metadata": {
        "id": "InVpTujMSBbc"
      },
      "execution_count": null,
      "outputs": []
    },
    {
      "cell_type": "code",
      "source": [
        "x_train,x_test,y_train,y_test=train_test_split(x,y,test_size=0.2,random_state=0)"
      ],
      "metadata": {
        "id": "t-pH4kFCSHUN"
      },
      "execution_count": null,
      "outputs": []
    },
    {
      "cell_type": "code",
      "source": [
        "x_train.head()"
      ],
      "metadata": {
        "colab": {
          "base_uri": "https://localhost:8080/",
          "height": 288
        },
        "id": "2fTu_p_RTLhW",
        "outputId": "baa748ed-ea09-4797-8943-deebabb88c77"
      },
      "execution_count": null,
      "outputs": [
        {
          "output_type": "execute_result",
          "data": {
            "text/plain": [
              "     Marketing expense  Production expense  Multiplex coverage     Budget  \\\n",
              "220            27.1618               67.40               0.493  38612.805   \n",
              "71             23.1752               76.62               0.587  33113.355   \n",
              "240            22.2658               64.86               0.572  38312.835   \n",
              "6              21.7658               70.74               0.476  33396.660   \n",
              "417           538.8120               91.20               0.321  29463.720   \n",
              "\n",
              "     Movie_length  Lead_ Actor_Rating  Lead_Actress_rating  Director_rating  \\\n",
              "220         162.0               8.485                8.640            8.485   \n",
              "71           91.0               7.280                7.400            7.290   \n",
              "240         127.8               6.755                6.935            6.800   \n",
              "6           140.1               7.065                7.265            7.150   \n",
              "417         162.6               9.135                9.305            9.095   \n",
              "\n",
              "     Producer_rating  Critic_rating  Trailer_views  Time_taken  \\\n",
              "220            8.670           8.52         480270      174.68   \n",
              "71             7.455           8.16         491978      200.68   \n",
              "240            6.840           8.68         470107      204.80   \n",
              "6              7.400           8.96         459241      139.16   \n",
              "417            9.165           6.96         302776      172.16   \n",
              "\n",
              "     Twitter_hastags  Avg_age_actors  Num_multiplex  3D_available_YES  \\\n",
              "220          224.272              23            536                 0   \n",
              "71           263.472              46            400                 0   \n",
              "240          224.320              24            387                 1   \n",
              "6            243.664              41            522                 1   \n",
              "417          301.664              60            589                 1   \n",
              "\n",
              "     Genre_Comedy  Genre_Drama  Genre_Thriller  \n",
              "220             0            0               1  \n",
              "71              0            0               0  \n",
              "240             1            0               0  \n",
              "6               0            0               1  \n",
              "417             0            0               0  "
            ],
            "text/html": [
              "\n",
              "  <div id=\"df-5de70a52-1336-402f-8943-a26b4b3cd797\">\n",
              "    <div class=\"colab-df-container\">\n",
              "      <div>\n",
              "<style scoped>\n",
              "    .dataframe tbody tr th:only-of-type {\n",
              "        vertical-align: middle;\n",
              "    }\n",
              "\n",
              "    .dataframe tbody tr th {\n",
              "        vertical-align: top;\n",
              "    }\n",
              "\n",
              "    .dataframe thead th {\n",
              "        text-align: right;\n",
              "    }\n",
              "</style>\n",
              "<table border=\"1\" class=\"dataframe\">\n",
              "  <thead>\n",
              "    <tr style=\"text-align: right;\">\n",
              "      <th></th>\n",
              "      <th>Marketing expense</th>\n",
              "      <th>Production expense</th>\n",
              "      <th>Multiplex coverage</th>\n",
              "      <th>Budget</th>\n",
              "      <th>Movie_length</th>\n",
              "      <th>Lead_ Actor_Rating</th>\n",
              "      <th>Lead_Actress_rating</th>\n",
              "      <th>Director_rating</th>\n",
              "      <th>Producer_rating</th>\n",
              "      <th>Critic_rating</th>\n",
              "      <th>Trailer_views</th>\n",
              "      <th>Time_taken</th>\n",
              "      <th>Twitter_hastags</th>\n",
              "      <th>Avg_age_actors</th>\n",
              "      <th>Num_multiplex</th>\n",
              "      <th>3D_available_YES</th>\n",
              "      <th>Genre_Comedy</th>\n",
              "      <th>Genre_Drama</th>\n",
              "      <th>Genre_Thriller</th>\n",
              "    </tr>\n",
              "  </thead>\n",
              "  <tbody>\n",
              "    <tr>\n",
              "      <th>220</th>\n",
              "      <td>27.1618</td>\n",
              "      <td>67.40</td>\n",
              "      <td>0.493</td>\n",
              "      <td>38612.805</td>\n",
              "      <td>162.0</td>\n",
              "      <td>8.485</td>\n",
              "      <td>8.640</td>\n",
              "      <td>8.485</td>\n",
              "      <td>8.670</td>\n",
              "      <td>8.52</td>\n",
              "      <td>480270</td>\n",
              "      <td>174.68</td>\n",
              "      <td>224.272</td>\n",
              "      <td>23</td>\n",
              "      <td>536</td>\n",
              "      <td>0</td>\n",
              "      <td>0</td>\n",
              "      <td>0</td>\n",
              "      <td>1</td>\n",
              "    </tr>\n",
              "    <tr>\n",
              "      <th>71</th>\n",
              "      <td>23.1752</td>\n",
              "      <td>76.62</td>\n",
              "      <td>0.587</td>\n",
              "      <td>33113.355</td>\n",
              "      <td>91.0</td>\n",
              "      <td>7.280</td>\n",
              "      <td>7.400</td>\n",
              "      <td>7.290</td>\n",
              "      <td>7.455</td>\n",
              "      <td>8.16</td>\n",
              "      <td>491978</td>\n",
              "      <td>200.68</td>\n",
              "      <td>263.472</td>\n",
              "      <td>46</td>\n",
              "      <td>400</td>\n",
              "      <td>0</td>\n",
              "      <td>0</td>\n",
              "      <td>0</td>\n",
              "      <td>0</td>\n",
              "    </tr>\n",
              "    <tr>\n",
              "      <th>240</th>\n",
              "      <td>22.2658</td>\n",
              "      <td>64.86</td>\n",
              "      <td>0.572</td>\n",
              "      <td>38312.835</td>\n",
              "      <td>127.8</td>\n",
              "      <td>6.755</td>\n",
              "      <td>6.935</td>\n",
              "      <td>6.800</td>\n",
              "      <td>6.840</td>\n",
              "      <td>8.68</td>\n",
              "      <td>470107</td>\n",
              "      <td>204.80</td>\n",
              "      <td>224.320</td>\n",
              "      <td>24</td>\n",
              "      <td>387</td>\n",
              "      <td>1</td>\n",
              "      <td>1</td>\n",
              "      <td>0</td>\n",
              "      <td>0</td>\n",
              "    </tr>\n",
              "    <tr>\n",
              "      <th>6</th>\n",
              "      <td>21.7658</td>\n",
              "      <td>70.74</td>\n",
              "      <td>0.476</td>\n",
              "      <td>33396.660</td>\n",
              "      <td>140.1</td>\n",
              "      <td>7.065</td>\n",
              "      <td>7.265</td>\n",
              "      <td>7.150</td>\n",
              "      <td>7.400</td>\n",
              "      <td>8.96</td>\n",
              "      <td>459241</td>\n",
              "      <td>139.16</td>\n",
              "      <td>243.664</td>\n",
              "      <td>41</td>\n",
              "      <td>522</td>\n",
              "      <td>1</td>\n",
              "      <td>0</td>\n",
              "      <td>0</td>\n",
              "      <td>1</td>\n",
              "    </tr>\n",
              "    <tr>\n",
              "      <th>417</th>\n",
              "      <td>538.8120</td>\n",
              "      <td>91.20</td>\n",
              "      <td>0.321</td>\n",
              "      <td>29463.720</td>\n",
              "      <td>162.6</td>\n",
              "      <td>9.135</td>\n",
              "      <td>9.305</td>\n",
              "      <td>9.095</td>\n",
              "      <td>9.165</td>\n",
              "      <td>6.96</td>\n",
              "      <td>302776</td>\n",
              "      <td>172.16</td>\n",
              "      <td>301.664</td>\n",
              "      <td>60</td>\n",
              "      <td>589</td>\n",
              "      <td>1</td>\n",
              "      <td>0</td>\n",
              "      <td>0</td>\n",
              "      <td>0</td>\n",
              "    </tr>\n",
              "  </tbody>\n",
              "</table>\n",
              "</div>\n",
              "      <button class=\"colab-df-convert\" onclick=\"convertToInteractive('df-5de70a52-1336-402f-8943-a26b4b3cd797')\"\n",
              "              title=\"Convert this dataframe to an interactive table.\"\n",
              "              style=\"display:none;\">\n",
              "        \n",
              "  <svg xmlns=\"http://www.w3.org/2000/svg\" height=\"24px\"viewBox=\"0 0 24 24\"\n",
              "       width=\"24px\">\n",
              "    <path d=\"M0 0h24v24H0V0z\" fill=\"none\"/>\n",
              "    <path d=\"M18.56 5.44l.94 2.06.94-2.06 2.06-.94-2.06-.94-.94-2.06-.94 2.06-2.06.94zm-11 1L8.5 8.5l.94-2.06 2.06-.94-2.06-.94L8.5 2.5l-.94 2.06-2.06.94zm10 10l.94 2.06.94-2.06 2.06-.94-2.06-.94-.94-2.06-.94 2.06-2.06.94z\"/><path d=\"M17.41 7.96l-1.37-1.37c-.4-.4-.92-.59-1.43-.59-.52 0-1.04.2-1.43.59L10.3 9.45l-7.72 7.72c-.78.78-.78 2.05 0 2.83L4 21.41c.39.39.9.59 1.41.59.51 0 1.02-.2 1.41-.59l7.78-7.78 2.81-2.81c.8-.78.8-2.07 0-2.86zM5.41 20L4 18.59l7.72-7.72 1.47 1.35L5.41 20z\"/>\n",
              "  </svg>\n",
              "      </button>\n",
              "      \n",
              "  <style>\n",
              "    .colab-df-container {\n",
              "      display:flex;\n",
              "      flex-wrap:wrap;\n",
              "      gap: 12px;\n",
              "    }\n",
              "\n",
              "    .colab-df-convert {\n",
              "      background-color: #E8F0FE;\n",
              "      border: none;\n",
              "      border-radius: 50%;\n",
              "      cursor: pointer;\n",
              "      display: none;\n",
              "      fill: #1967D2;\n",
              "      height: 32px;\n",
              "      padding: 0 0 0 0;\n",
              "      width: 32px;\n",
              "    }\n",
              "\n",
              "    .colab-df-convert:hover {\n",
              "      background-color: #E2EBFA;\n",
              "      box-shadow: 0px 1px 2px rgba(60, 64, 67, 0.3), 0px 1px 3px 1px rgba(60, 64, 67, 0.15);\n",
              "      fill: #174EA6;\n",
              "    }\n",
              "\n",
              "    [theme=dark] .colab-df-convert {\n",
              "      background-color: #3B4455;\n",
              "      fill: #D2E3FC;\n",
              "    }\n",
              "\n",
              "    [theme=dark] .colab-df-convert:hover {\n",
              "      background-color: #434B5C;\n",
              "      box-shadow: 0px 1px 3px 1px rgba(0, 0, 0, 0.15);\n",
              "      filter: drop-shadow(0px 1px 2px rgba(0, 0, 0, 0.3));\n",
              "      fill: #FFFFFF;\n",
              "    }\n",
              "  </style>\n",
              "\n",
              "      <script>\n",
              "        const buttonEl =\n",
              "          document.querySelector('#df-5de70a52-1336-402f-8943-a26b4b3cd797 button.colab-df-convert');\n",
              "        buttonEl.style.display =\n",
              "          google.colab.kernel.accessAllowed ? 'block' : 'none';\n",
              "\n",
              "        async function convertToInteractive(key) {\n",
              "          const element = document.querySelector('#df-5de70a52-1336-402f-8943-a26b4b3cd797');\n",
              "          const dataTable =\n",
              "            await google.colab.kernel.invokeFunction('convertToInteractive',\n",
              "                                                     [key], {});\n",
              "          if (!dataTable) return;\n",
              "\n",
              "          const docLinkHtml = 'Like what you see? Visit the ' +\n",
              "            '<a target=\"_blank\" href=https://colab.research.google.com/notebooks/data_table.ipynb>data table notebook</a>'\n",
              "            + ' to learn more about interactive tables.';\n",
              "          element.innerHTML = '';\n",
              "          dataTable['output_type'] = 'display_data';\n",
              "          await google.colab.output.renderOutput(dataTable, element);\n",
              "          const docLink = document.createElement('div');\n",
              "          docLink.innerHTML = docLinkHtml;\n",
              "          element.appendChild(docLink);\n",
              "        }\n",
              "      </script>\n",
              "    </div>\n",
              "  </div>\n",
              "  "
            ]
          },
          "metadata": {},
          "execution_count": 23
        }
      ]
    },
    {
      "cell_type": "code",
      "source": [
        "x_train.shape,x_test.shape,y_train.shape,y_test.shape"
      ],
      "metadata": {
        "colab": {
          "base_uri": "https://localhost:8080/"
        },
        "id": "Tqmq6sEhTPO3",
        "outputId": "44ff582f-9b6d-4d0b-c309-fe8ae598bab0"
      },
      "execution_count": null,
      "outputs": [
        {
          "output_type": "execute_result",
          "data": {
            "text/plain": [
              "((404, 19), (102, 19), (404,), (102,))"
            ]
          },
          "metadata": {},
          "execution_count": 24
        }
      ]
    },
    {
      "cell_type": "markdown",
      "source": [
        "**Standardizing Data**"
      ],
      "metadata": {
        "id": "3jBKlxGQXsaS"
      }
    },
    {
      "cell_type": "code",
      "source": [
        "from sklearn.preprocessing import StandardScaler"
      ],
      "metadata": {
        "id": "i5ijsnJiXwGL"
      },
      "execution_count": null,
      "outputs": []
    },
    {
      "cell_type": "code",
      "source": [
        "sc=StandardScaler().fit(x_train)"
      ],
      "metadata": {
        "id": "hJrmkCviXsFk"
      },
      "execution_count": null,
      "outputs": []
    },
    {
      "cell_type": "code",
      "source": [
        "x_train_std=sc.transform(x_train)"
      ],
      "metadata": {
        "id": "vIrofrmXYWiH"
      },
      "execution_count": null,
      "outputs": []
    },
    {
      "cell_type": "code",
      "source": [
        "x_test_std=sc.transform(x_test)"
      ],
      "metadata": {
        "id": "_q-E4iuKYtx2"
      },
      "execution_count": null,
      "outputs": []
    },
    {
      "cell_type": "code",
      "source": [
        "x_test_std"
      ],
      "metadata": {
        "colab": {
          "base_uri": "https://localhost:8080/"
        },
        "id": "fdgv1e-oYkjG",
        "outputId": "071606fe-1f4b-4004-f343-8bab60841a39"
      },
      "execution_count": null,
      "outputs": [
        {
          "output_type": "execute_result",
          "data": {
            "text/plain": [
              "array([[-0.40835869, -1.12872913,  0.83336883, ...,  1.50268577,\n",
              "        -0.48525664, -0.75225758],\n",
              "       [ 0.71925111,  0.9988844 , -0.65283979, ...,  1.50268577,\n",
              "        -0.48525664, -0.75225758],\n",
              "       [-0.40257488,  0.39610829,  0.05115377, ...,  1.50268577,\n",
              "        -0.48525664, -0.75225758],\n",
              "       ...,\n",
              "       [-0.3982601 , -0.85812418,  0.89420778, ..., -0.66547513,\n",
              "        -0.48525664,  1.3293319 ],\n",
              "       [-0.39934279, -0.07637654,  0.58132175, ...,  1.50268577,\n",
              "        -0.48525664, -0.75225758],\n",
              "       [-0.40088071, -0.36702631,  0.31189212, ..., -0.66547513,\n",
              "        -0.48525664, -0.75225758]])"
            ]
          },
          "metadata": {},
          "execution_count": 29
        }
      ]
    },
    {
      "cell_type": "code",
      "source": [
        ""
      ],
      "metadata": {
        "id": "FW9wyDeOaPqb"
      },
      "execution_count": null,
      "outputs": []
    },
    {
      "cell_type": "markdown",
      "source": [
        "**Training Regression Tree**"
      ],
      "metadata": {
        "id": "7OD3c-0hS3-V"
      }
    },
    {
      "cell_type": "code",
      "source": [
        "from sklearn.svm import SVR\n",
        "svr=SVR(kernel='linear',C=1000)"
      ],
      "metadata": {
        "id": "9iCzXFZeS3cb"
      },
      "execution_count": null,
      "outputs": []
    },
    {
      "cell_type": "code",
      "source": [
        "svr.fit(x_train_std,y_train)"
      ],
      "metadata": {
        "colab": {
          "base_uri": "https://localhost:8080/"
        },
        "id": "V6_0lZRKqOZr",
        "outputId": "50969b62-bf0e-4bdd-9275-0c9cb7235ac9"
      },
      "execution_count": null,
      "outputs": [
        {
          "output_type": "execute_result",
          "data": {
            "text/plain": [
              "SVR(C=1000, kernel='linear')"
            ]
          },
          "metadata": {},
          "execution_count": 31
        }
      ]
    },
    {
      "cell_type": "markdown",
      "source": [
        "**Pridict values using trained model**"
      ],
      "metadata": {
        "id": "TBa9U8N3rYe9"
      }
    },
    {
      "cell_type": "code",
      "source": [
        "y_test_pred=svr.predict(x_test_std)\n",
        "y_train_pred=svr.predict(x_train_std)"
      ],
      "metadata": {
        "id": "Z5vKrXmETLAD"
      },
      "execution_count": null,
      "outputs": []
    },
    {
      "cell_type": "code",
      "source": [
        "y_test_pred,y_train_pred"
      ],
      "metadata": {
        "colab": {
          "base_uri": "https://localhost:8080/"
        },
        "id": "EAI44hMArnkC",
        "outputId": "e17a78aa-39fc-4073-dc88-b86ed0b06779"
      },
      "execution_count": null,
      "outputs": [
        {
          "output_type": "execute_result",
          "data": {
            "text/plain": [
              "(array([54170.53503625, 42284.13073448, 47467.48411681, 18129.17355969,\n",
              "        48399.2694108 , 39866.86998058, 34007.32532044, 43289.77824001,\n",
              "        30366.10675075, 47064.86893308, 12791.33749785, 38408.82653373,\n",
              "        37559.85784034,  8779.61135966, 66820.90169749, 61934.22332501,\n",
              "        38795.59236698, 65521.75338819, 57150.63894057, 43345.30648075,\n",
              "        53845.74438999, 39163.9161095 , 41674.15698489, 58329.2948265 ,\n",
              "        42884.07327353, 13145.18400653, 40922.72188255, 29718.76094568,\n",
              "        74630.97971381, 44573.11287424, 36854.7122831 , 37424.55686816,\n",
              "        37582.94829537, 40845.85075693, 52096.6358182 , 35540.25290306,\n",
              "        25313.83859774, 36522.56259703, 36623.75409555, 35831.61173002,\n",
              "        47370.51557929, 45957.66677543, 44656.54171505, 27680.22280557,\n",
              "        50609.67508545, 46713.98056409, 33197.61112633, 40047.74770769,\n",
              "        15830.8986982 , 51791.84658664, 41241.55116877, 39132.63366916,\n",
              "        47511.3684718 , 67543.6845176 , 25372.80865713, 41659.98849411,\n",
              "        41183.13416828, 34329.69827939, 21291.90329438, 39332.20090511,\n",
              "        41482.76666808, 41305.705476  , 65283.01275883, 64854.422162  ,\n",
              "        28470.27249381, 63678.89600398, 37109.92800204, 39308.41079599,\n",
              "        42108.77491375, 47272.96039093, 46402.38045685, 48948.09910041,\n",
              "        56494.74395678, 59884.05633069, 49074.24411709, 10885.11690224,\n",
              "        73708.55119772, 44774.58652223, 59273.21131031, 38000.03908567,\n",
              "        50616.25130199, 43141.53644229, 32228.32910879, 81337.35382161,\n",
              "        79338.4819698 , 47926.47727737, 50711.45023189, 30108.91100051,\n",
              "        49496.94125933, 38011.42325353, 34085.66885372, 34287.73114639,\n",
              "        43273.16443822, 59282.17937564, 43881.88478087, 42304.07003505,\n",
              "        -4537.98340671, 52502.3163472 , 36710.19229576, 32246.91091579,\n",
              "        49741.80875784, 48435.89960542]),\n",
              " array([58603.58957536, 46690.14254365, 56841.28702076, 45799.90010193,\n",
              "        12663.32468844, 26011.38283745, 45524.05249317, 57136.16620814,\n",
              "        59523.60803487, 21347.20466978, 36170.7141279 , 39924.59539802,\n",
              "        23158.24468825, 39136.74605211, 20364.12933653, 38452.28838181,\n",
              "        11785.43466737, 82610.30647425, 54864.60099649, 25180.08817792,\n",
              "        29996.02837869, 42546.37994633, 48110.14921725, 33847.55247888,\n",
              "        65179.99733631, 32068.89854756, 37156.27901868, 59702.54361391,\n",
              "        38487.04766362, 39513.8634791 , 28167.06741385, 41105.5285903 ,\n",
              "        39855.7693293 , 62360.65911781, 50941.66711689, 26799.89652161,\n",
              "        56140.89171393, 25606.43246298, 31337.97487274, 44434.38890901,\n",
              "        65558.99030643, 55557.22232474, 48503.26643153, 33200.09699375,\n",
              "        59557.29341944, 62904.55609324, 36529.3469089 , 10265.87866299,\n",
              "        51486.82360053, 48497.65124273, 15095.08177935, 52892.02327286,\n",
              "        36052.01518184, 55899.50395048, 35844.95534481, 35068.0159804 ,\n",
              "        39217.96521671, 30412.90165946, 23757.67310407, 42532.74776542,\n",
              "        67998.43990593, 63399.90211668, 48361.10111471, 43210.00379759,\n",
              "        46124.35557964, 51670.87326795, 38284.95751453, 31657.06867106,\n",
              "        61343.36348833, 17702.44449456, 40259.09309163, 54406.16381461,\n",
              "        39915.63924647, 29942.72640099, 34908.8593529 , 28291.61983776,\n",
              "        48957.69584639, 48392.54436394, 37163.98167611, 31560.33210009,\n",
              "        40383.98498889, 45400.09736971, 37495.28839297, 54513.9790523 ,\n",
              "        48333.75456794, 54428.85734552, 76370.34753849, 38056.41469681,\n",
              "        30163.07474148, 62000.10336787, 65737.59003259, 36973.84815186,\n",
              "        77046.83110912, 51837.56605474, 55410.74863468, 31692.41557811,\n",
              "        49149.6982912 , 69946.51374486, 53550.99353108, 33853.70527801,\n",
              "        71559.95627127, 64691.62578546, 30807.85375182, 42920.17006432,\n",
              "        35629.98571014, 50239.26038673, 42399.90132364, 41621.3134992 ,\n",
              "        56739.5588029 , 51961.47595479, 34002.84069318, 43900.15011945,\n",
              "        41915.70998776, 36241.68585872, 30366.47974736, 57220.06870411,\n",
              "        39216.85314952, 69399.8921233 , 18095.77320212, 43399.89858026,\n",
              "        35000.10202782, 29602.75687762, 36800.38096611, 42556.26975207,\n",
              "        26520.1881716 , 46678.5422286 , 57523.12047925, 44855.02981011,\n",
              "        27005.55614349, 49130.94256755, 51052.12216139, 52083.44598075,\n",
              "        45467.98578623, 42784.81096118, 32513.93090438, 35935.22994002,\n",
              "        65262.27397311, 36215.52351582, 68816.24463954, 51673.78240572,\n",
              "        40400.09766468, 29990.38767013, 61722.16947704, 45282.03052141,\n",
              "        50174.7898129 , 25833.7664181 , 57661.73361976, 33716.02189954,\n",
              "         6022.73707333, 40433.83356691, 26989.05378032, 75184.28832078,\n",
              "        34473.41948503, 33962.31379428, 50002.61629656, 47002.42688777,\n",
              "        31911.30722411, 63079.42735364, 50399.90639737, 51985.05403933,\n",
              "        38533.80267342, 53277.43036275, 44404.55316346, 24356.2900659 ,\n",
              "        44705.01411551, 12856.96976256, 40307.37131861, 31624.16525695,\n",
              "        46826.42366802, 34972.52910966, 30728.18456084, 58212.06575888,\n",
              "        26267.05413589, 39595.1873112 , 27704.01026461, 28237.57790672,\n",
              "        41497.41121939, 40489.12351624, 32716.07329445, 50024.74114947,\n",
              "        34546.46604552, 45835.86024186, 22228.08873863, 68226.18028643,\n",
              "        32002.13995774, 76596.87144992, 60478.27104562, 58390.32655165,\n",
              "        46734.10689165, 37737.13590223, 42575.09559598, 53664.26774065,\n",
              "        28599.90201364, 57212.89782776, 71748.05534784, 32920.86102543,\n",
              "        21206.39801821, 68188.08827329, 61431.55129748, 37829.80101068,\n",
              "        42598.40904902, 32835.0938511 , 49012.54395618, 38057.28996906,\n",
              "        50054.52337072, -4974.339658  , 40782.11543511, 79118.67327248,\n",
              "        64338.19801426, 46529.91504879, 56762.94262512, 34515.01495213,\n",
              "        46426.038536  , 25816.75719491, 30599.9083104 , 46146.61329625,\n",
              "        51249.45866019, 42417.48988202,  5311.08267276, 39421.67421519,\n",
              "        63509.54204012, 67840.33515694, 26050.18683991, 37907.9064493 ,\n",
              "        47091.17907563,  6856.24689533, 45737.68372608, 48143.43449637,\n",
              "        28662.87285192, 37797.23591415, 51256.9785213 , 46243.25791607,\n",
              "        43251.79813574, 72025.68071922, 33779.60363372, 62320.83611065,\n",
              "        48530.58824643, 36818.43466547, 74302.2428564 , 44395.06979558,\n",
              "        46435.41713228, 44091.408278  , 20800.10848169, 39138.48483616,\n",
              "        63746.99539452, 42434.85630394, 35443.24999352, 65766.39994365,\n",
              "        45540.79914039, 59593.70461503, 61224.50835414, 65085.74191067,\n",
              "        39774.19543751, 49604.46129376, 43259.60585275, 60343.07211368,\n",
              "        45297.43599813, 34787.62965271, 39017.5469761 , 54359.87418143,\n",
              "        40744.2455022 , 37322.01109028, 24703.73542039, 34737.95246135,\n",
              "        35342.87978156, 34448.53974867, 32712.99876607, 54622.09049576,\n",
              "        45359.98881595, 32453.82713027, 40561.61216251, 59657.73906772,\n",
              "        33492.73161038, 52717.41140877, 35811.52118254, 55846.40205857,\n",
              "        50374.84949699, 33840.40652393, 46004.48329111, 73497.03180224,\n",
              "        53200.09626321, 63192.28437772, 43231.18235149, 56893.99404157,\n",
              "        53178.95055537, 68083.74110244, 45286.03787623, 37907.51909913,\n",
              "        54998.88938405, 25973.04052693, 41264.1042174 , 42114.25870748,\n",
              "        51256.7027173 , 20880.04971841, 64512.67927641, 12822.2493173 ,\n",
              "        25565.10165728, 36383.77605309, 65053.53661359, 58157.27539328,\n",
              "        19587.01313196, 25627.99373245, 44717.20240343, 69905.52721981,\n",
              "        28926.14633984, 36463.96782555, 35650.00591973, 51109.86731084,\n",
              "        78927.85382986, 50589.67653873, 77075.98235888, 46934.25363651,\n",
              "        40013.01960697, 27526.3888764 , 23744.83032277, 33389.72638015,\n",
              "        43139.35492375,  3366.13714153, 50942.73167572, 50328.90184082,\n",
              "        82486.467422  , 45138.62866271, 33057.81140875, 66321.57616655,\n",
              "        59959.79491461, 29364.31772723, 52569.86773375, 88836.8621705 ,\n",
              "        39509.32405233, 36605.39977682, 50023.64112517, 38031.82001084,\n",
              "         6795.79520173, 35923.90688801, 70123.76293438, 44895.5377002 ,\n",
              "        46800.87359906, 23095.71750269, 47811.1981733 , 34976.7637165 ,\n",
              "        32124.23113847, 42122.82389061, 61350.28542828, 46018.03156765,\n",
              "        59035.46907565, 53135.32291783, 79609.35976873, 30023.93933133,\n",
              "        31754.17244968, 74013.1516017 , 35683.45743814, 30295.26589641,\n",
              "        27732.60979146, 48948.54870065, 40046.94727449, 34341.07449544,\n",
              "        44634.53724875, 41321.05316262,  8714.66917176, 39153.1317427 ,\n",
              "        16823.17216702, 53648.6631872 , 16929.06112575, 55806.84770652,\n",
              "        66400.1030426 , 47134.29521108, 33019.65361586, 44941.14694281,\n",
              "        42199.90193905, 60600.09869987, 53381.80320209, 39206.43665521,\n",
              "        36857.26605143, 14236.71770406, 43397.58888192, 44140.35807998,\n",
              "        49305.86457661, 34912.4487054 , 43057.56901145, 41101.64863528,\n",
              "        20181.77910794, 47964.25129123, 34567.1581184 , 62528.27965688,\n",
              "        57436.56161964, 50091.8510545 , 35114.64292833, 60359.78446262,\n",
              "        42934.62185084, 52065.7017073 , 52239.00580388, 59159.4867276 ,\n",
              "        49633.96021864, 56142.18475981, 24869.64310045, 36328.95108586,\n",
              "        33548.25457504, 79574.49426398, 51352.1735448 , 38849.87810933,\n",
              "        63887.54567544, 40142.16159497, 33877.63426281, 37226.61062353]))"
            ]
          },
          "metadata": {},
          "execution_count": 33
        }
      ]
    },
    {
      "cell_type": "markdown",
      "source": [
        "**Model Performance**"
      ],
      "metadata": {
        "id": "MBTV13nWrvPs"
      }
    },
    {
      "cell_type": "code",
      "source": [
        "from sklearn.metrics import mean_squared_error,r2_score"
      ],
      "metadata": {
        "id": "SYK-oB2jru6l"
      },
      "execution_count": null,
      "outputs": []
    },
    {
      "cell_type": "code",
      "source": [
        "mean_squared_error(y_test,y_test_pred)"
      ],
      "metadata": {
        "colab": {
          "base_uri": "https://localhost:8080/"
        },
        "id": "l_bjvEZMr6XY",
        "outputId": "496841ea-78a4-498e-8a41-1887513bc334"
      },
      "execution_count": null,
      "outputs": [
        {
          "output_type": "execute_result",
          "data": {
            "text/plain": [
              "160153135.39404386"
            ]
          },
          "metadata": {},
          "execution_count": 35
        }
      ]
    },
    {
      "cell_type": "code",
      "source": [
        "r2_score(y_train,y_train_pred)"
      ],
      "metadata": {
        "colab": {
          "base_uri": "https://localhost:8080/"
        },
        "id": "-jHeeuPFr_hp",
        "outputId": "f8be2e89-35a6-45fc-ed18-2e27df114eec"
      },
      "execution_count": null,
      "outputs": [
        {
          "output_type": "execute_result",
          "data": {
            "text/plain": [
              "0.7124450931551838"
            ]
          },
          "metadata": {},
          "execution_count": 36
        }
      ]
    },
    {
      "cell_type": "code",
      "source": [
        "r2_score(y_test,y_test_pred)"
      ],
      "metadata": {
        "colab": {
          "base_uri": "https://localhost:8080/"
        },
        "id": "2PZwVJ4KsDFQ",
        "outputId": "f5436952-e9d7-4560-addf-814653ee6b36"
      },
      "execution_count": null,
      "outputs": [
        {
          "output_type": "execute_result",
          "data": {
            "text/plain": [
              "0.5025135728682724"
            ]
          },
          "metadata": {},
          "execution_count": 37
        }
      ]
    }
  ]
}