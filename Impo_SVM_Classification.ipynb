{
  "nbformat": 4,
  "nbformat_minor": 0,
  "metadata": {
    "colab": {
      "name": "Impo_SVM_Classification.ipynb",
      "provenance": [],
      "mount_file_id": "1bvT03GrwSC_HsjjePKqXJetAOTEqlXIR",
      "authorship_tag": "ABX9TyNGDc88IfasS+cs89kjayNd",
      "include_colab_link": true
    },
    "kernelspec": {
      "name": "python3",
      "display_name": "Python 3"
    },
    "language_info": {
      "name": "python"
    }
  },
  "cells": [
    {
      "cell_type": "markdown",
      "metadata": {
        "id": "view-in-github",
        "colab_type": "text"
      },
      "source": [
        "<a href=\"https://colab.research.google.com/github/negarmajma/Machine-learning-sample-code/blob/main/Impo_SVM_Classification.ipynb\" target=\"_parent\"><img src=\"https://colab.research.google.com/assets/colab-badge.svg\" alt=\"Open In Colab\"/></a>"
      ]
    },
    {
      "cell_type": "code",
      "execution_count": null,
      "metadata": {
        "id": "O71KNKk5tT0s"
      },
      "outputs": [],
      "source": [
        "import numpy as np\n",
        "import pandas as pd\n",
        "import seaborn as sns\n",
        "import matplotlib.pyplot as plt"
      ]
    },
    {
      "cell_type": "code",
      "source": [
        "df=pd.read_csv(\"drive/MyDrive/Datasets/Movie_classification.csv\", header=0)"
      ],
      "metadata": {
        "id": "4UcYLRhhtjdV"
      },
      "execution_count": null,
      "outputs": []
    },
    {
      "cell_type": "code",
      "source": [
        "df.head()"
      ],
      "metadata": {
        "colab": {
          "base_uri": "https://localhost:8080/",
          "height": 287
        },
        "id": "egn2vD9LtmjJ",
        "outputId": "11d1318e-345f-4ddd-f7ba-d668cd56f244"
      },
      "execution_count": null,
      "outputs": [
        {
          "output_type": "execute_result",
          "data": {
            "text/plain": [
              "   Marketing expense  Production expense  Multiplex coverage     Budget  \\\n",
              "0            20.1264               59.62               0.462  36524.125   \n",
              "1            20.5462               69.14               0.531  35668.655   \n",
              "2            20.5458               69.14               0.531  39912.675   \n",
              "3            20.6474               59.36               0.542  38873.890   \n",
              "4            21.3810               59.36               0.542  39701.585   \n",
              "\n",
              "   Movie_length  Lead_ Actor_Rating  Lead_Actress_rating  Director_rating  \\\n",
              "0         138.7               7.825                8.095            7.910   \n",
              "1         152.4               7.505                7.650            7.440   \n",
              "2         134.6               7.485                7.570            7.495   \n",
              "3         119.3               6.895                7.035            6.920   \n",
              "4         127.7               6.920                7.070            6.815   \n",
              "\n",
              "   Producer_rating  Critic_rating  Trailer_views 3D_available  Time_taken  \\\n",
              "0            7.995           7.94         527367          YES      109.60   \n",
              "1            7.470           7.44         494055           NO      146.64   \n",
              "2            7.515           7.44         547051           NO      147.88   \n",
              "3            7.020           8.26         516279          YES      185.36   \n",
              "4            7.070           8.26         531448           NO      176.48   \n",
              "\n",
              "   Twitter_hastags     Genre  Avg_age_actors  Num_multiplex  Collection  \\\n",
              "0          223.840  Thriller              23            494       48000   \n",
              "1          243.456     Drama              42            462       43200   \n",
              "2         2022.400    Comedy              38            458       69400   \n",
              "3          225.344     Drama              45            472       66800   \n",
              "4          225.792     Drama              55            395       72400   \n",
              "\n",
              "   Start_Tech_Oscar  \n",
              "0                 1  \n",
              "1                 0  \n",
              "2                 1  \n",
              "3                 1  \n",
              "4                 1  "
            ],
            "text/html": [
              "\n",
              "  <div id=\"df-458846fd-f545-4671-ab92-01e4a3385f3f\">\n",
              "    <div class=\"colab-df-container\">\n",
              "      <div>\n",
              "<style scoped>\n",
              "    .dataframe tbody tr th:only-of-type {\n",
              "        vertical-align: middle;\n",
              "    }\n",
              "\n",
              "    .dataframe tbody tr th {\n",
              "        vertical-align: top;\n",
              "    }\n",
              "\n",
              "    .dataframe thead th {\n",
              "        text-align: right;\n",
              "    }\n",
              "</style>\n",
              "<table border=\"1\" class=\"dataframe\">\n",
              "  <thead>\n",
              "    <tr style=\"text-align: right;\">\n",
              "      <th></th>\n",
              "      <th>Marketing expense</th>\n",
              "      <th>Production expense</th>\n",
              "      <th>Multiplex coverage</th>\n",
              "      <th>Budget</th>\n",
              "      <th>Movie_length</th>\n",
              "      <th>Lead_ Actor_Rating</th>\n",
              "      <th>Lead_Actress_rating</th>\n",
              "      <th>Director_rating</th>\n",
              "      <th>Producer_rating</th>\n",
              "      <th>Critic_rating</th>\n",
              "      <th>Trailer_views</th>\n",
              "      <th>3D_available</th>\n",
              "      <th>Time_taken</th>\n",
              "      <th>Twitter_hastags</th>\n",
              "      <th>Genre</th>\n",
              "      <th>Avg_age_actors</th>\n",
              "      <th>Num_multiplex</th>\n",
              "      <th>Collection</th>\n",
              "      <th>Start_Tech_Oscar</th>\n",
              "    </tr>\n",
              "  </thead>\n",
              "  <tbody>\n",
              "    <tr>\n",
              "      <th>0</th>\n",
              "      <td>20.1264</td>\n",
              "      <td>59.62</td>\n",
              "      <td>0.462</td>\n",
              "      <td>36524.125</td>\n",
              "      <td>138.7</td>\n",
              "      <td>7.825</td>\n",
              "      <td>8.095</td>\n",
              "      <td>7.910</td>\n",
              "      <td>7.995</td>\n",
              "      <td>7.94</td>\n",
              "      <td>527367</td>\n",
              "      <td>YES</td>\n",
              "      <td>109.60</td>\n",
              "      <td>223.840</td>\n",
              "      <td>Thriller</td>\n",
              "      <td>23</td>\n",
              "      <td>494</td>\n",
              "      <td>48000</td>\n",
              "      <td>1</td>\n",
              "    </tr>\n",
              "    <tr>\n",
              "      <th>1</th>\n",
              "      <td>20.5462</td>\n",
              "      <td>69.14</td>\n",
              "      <td>0.531</td>\n",
              "      <td>35668.655</td>\n",
              "      <td>152.4</td>\n",
              "      <td>7.505</td>\n",
              "      <td>7.650</td>\n",
              "      <td>7.440</td>\n",
              "      <td>7.470</td>\n",
              "      <td>7.44</td>\n",
              "      <td>494055</td>\n",
              "      <td>NO</td>\n",
              "      <td>146.64</td>\n",
              "      <td>243.456</td>\n",
              "      <td>Drama</td>\n",
              "      <td>42</td>\n",
              "      <td>462</td>\n",
              "      <td>43200</td>\n",
              "      <td>0</td>\n",
              "    </tr>\n",
              "    <tr>\n",
              "      <th>2</th>\n",
              "      <td>20.5458</td>\n",
              "      <td>69.14</td>\n",
              "      <td>0.531</td>\n",
              "      <td>39912.675</td>\n",
              "      <td>134.6</td>\n",
              "      <td>7.485</td>\n",
              "      <td>7.570</td>\n",
              "      <td>7.495</td>\n",
              "      <td>7.515</td>\n",
              "      <td>7.44</td>\n",
              "      <td>547051</td>\n",
              "      <td>NO</td>\n",
              "      <td>147.88</td>\n",
              "      <td>2022.400</td>\n",
              "      <td>Comedy</td>\n",
              "      <td>38</td>\n",
              "      <td>458</td>\n",
              "      <td>69400</td>\n",
              "      <td>1</td>\n",
              "    </tr>\n",
              "    <tr>\n",
              "      <th>3</th>\n",
              "      <td>20.6474</td>\n",
              "      <td>59.36</td>\n",
              "      <td>0.542</td>\n",
              "      <td>38873.890</td>\n",
              "      <td>119.3</td>\n",
              "      <td>6.895</td>\n",
              "      <td>7.035</td>\n",
              "      <td>6.920</td>\n",
              "      <td>7.020</td>\n",
              "      <td>8.26</td>\n",
              "      <td>516279</td>\n",
              "      <td>YES</td>\n",
              "      <td>185.36</td>\n",
              "      <td>225.344</td>\n",
              "      <td>Drama</td>\n",
              "      <td>45</td>\n",
              "      <td>472</td>\n",
              "      <td>66800</td>\n",
              "      <td>1</td>\n",
              "    </tr>\n",
              "    <tr>\n",
              "      <th>4</th>\n",
              "      <td>21.3810</td>\n",
              "      <td>59.36</td>\n",
              "      <td>0.542</td>\n",
              "      <td>39701.585</td>\n",
              "      <td>127.7</td>\n",
              "      <td>6.920</td>\n",
              "      <td>7.070</td>\n",
              "      <td>6.815</td>\n",
              "      <td>7.070</td>\n",
              "      <td>8.26</td>\n",
              "      <td>531448</td>\n",
              "      <td>NO</td>\n",
              "      <td>176.48</td>\n",
              "      <td>225.792</td>\n",
              "      <td>Drama</td>\n",
              "      <td>55</td>\n",
              "      <td>395</td>\n",
              "      <td>72400</td>\n",
              "      <td>1</td>\n",
              "    </tr>\n",
              "  </tbody>\n",
              "</table>\n",
              "</div>\n",
              "      <button class=\"colab-df-convert\" onclick=\"convertToInteractive('df-458846fd-f545-4671-ab92-01e4a3385f3f')\"\n",
              "              title=\"Convert this dataframe to an interactive table.\"\n",
              "              style=\"display:none;\">\n",
              "        \n",
              "  <svg xmlns=\"http://www.w3.org/2000/svg\" height=\"24px\"viewBox=\"0 0 24 24\"\n",
              "       width=\"24px\">\n",
              "    <path d=\"M0 0h24v24H0V0z\" fill=\"none\"/>\n",
              "    <path d=\"M18.56 5.44l.94 2.06.94-2.06 2.06-.94-2.06-.94-.94-2.06-.94 2.06-2.06.94zm-11 1L8.5 8.5l.94-2.06 2.06-.94-2.06-.94L8.5 2.5l-.94 2.06-2.06.94zm10 10l.94 2.06.94-2.06 2.06-.94-2.06-.94-.94-2.06-.94 2.06-2.06.94z\"/><path d=\"M17.41 7.96l-1.37-1.37c-.4-.4-.92-.59-1.43-.59-.52 0-1.04.2-1.43.59L10.3 9.45l-7.72 7.72c-.78.78-.78 2.05 0 2.83L4 21.41c.39.39.9.59 1.41.59.51 0 1.02-.2 1.41-.59l7.78-7.78 2.81-2.81c.8-.78.8-2.07 0-2.86zM5.41 20L4 18.59l7.72-7.72 1.47 1.35L5.41 20z\"/>\n",
              "  </svg>\n",
              "      </button>\n",
              "      \n",
              "  <style>\n",
              "    .colab-df-container {\n",
              "      display:flex;\n",
              "      flex-wrap:wrap;\n",
              "      gap: 12px;\n",
              "    }\n",
              "\n",
              "    .colab-df-convert {\n",
              "      background-color: #E8F0FE;\n",
              "      border: none;\n",
              "      border-radius: 50%;\n",
              "      cursor: pointer;\n",
              "      display: none;\n",
              "      fill: #1967D2;\n",
              "      height: 32px;\n",
              "      padding: 0 0 0 0;\n",
              "      width: 32px;\n",
              "    }\n",
              "\n",
              "    .colab-df-convert:hover {\n",
              "      background-color: #E2EBFA;\n",
              "      box-shadow: 0px 1px 2px rgba(60, 64, 67, 0.3), 0px 1px 3px 1px rgba(60, 64, 67, 0.15);\n",
              "      fill: #174EA6;\n",
              "    }\n",
              "\n",
              "    [theme=dark] .colab-df-convert {\n",
              "      background-color: #3B4455;\n",
              "      fill: #D2E3FC;\n",
              "    }\n",
              "\n",
              "    [theme=dark] .colab-df-convert:hover {\n",
              "      background-color: #434B5C;\n",
              "      box-shadow: 0px 1px 3px 1px rgba(0, 0, 0, 0.15);\n",
              "      filter: drop-shadow(0px 1px 2px rgba(0, 0, 0, 0.3));\n",
              "      fill: #FFFFFF;\n",
              "    }\n",
              "  </style>\n",
              "\n",
              "      <script>\n",
              "        const buttonEl =\n",
              "          document.querySelector('#df-458846fd-f545-4671-ab92-01e4a3385f3f button.colab-df-convert');\n",
              "        buttonEl.style.display =\n",
              "          google.colab.kernel.accessAllowed ? 'block' : 'none';\n",
              "\n",
              "        async function convertToInteractive(key) {\n",
              "          const element = document.querySelector('#df-458846fd-f545-4671-ab92-01e4a3385f3f');\n",
              "          const dataTable =\n",
              "            await google.colab.kernel.invokeFunction('convertToInteractive',\n",
              "                                                     [key], {});\n",
              "          if (!dataTable) return;\n",
              "\n",
              "          const docLinkHtml = 'Like what you see? Visit the ' +\n",
              "            '<a target=\"_blank\" href=https://colab.research.google.com/notebooks/data_table.ipynb>data table notebook</a>'\n",
              "            + ' to learn more about interactive tables.';\n",
              "          element.innerHTML = '';\n",
              "          dataTable['output_type'] = 'display_data';\n",
              "          await google.colab.output.renderOutput(dataTable, element);\n",
              "          const docLink = document.createElement('div');\n",
              "          docLink.innerHTML = docLinkHtml;\n",
              "          element.appendChild(docLink);\n",
              "        }\n",
              "      </script>\n",
              "    </div>\n",
              "  </div>\n",
              "  "
            ]
          },
          "metadata": {},
          "execution_count": 3
        }
      ]
    },
    {
      "cell_type": "code",
      "source": [
        "df.info()"
      ],
      "metadata": {
        "colab": {
          "base_uri": "https://localhost:8080/"
        },
        "id": "Ai9OgHs3uOBq",
        "outputId": "86649c70-1708-4d55-8990-443338ebe434"
      },
      "execution_count": null,
      "outputs": [
        {
          "output_type": "stream",
          "name": "stdout",
          "text": [
            "<class 'pandas.core.frame.DataFrame'>\n",
            "RangeIndex: 506 entries, 0 to 505\n",
            "Data columns (total 19 columns):\n",
            " #   Column               Non-Null Count  Dtype  \n",
            "---  ------               --------------  -----  \n",
            " 0   Marketing expense    506 non-null    float64\n",
            " 1   Production expense   506 non-null    float64\n",
            " 2   Multiplex coverage   506 non-null    float64\n",
            " 3   Budget               506 non-null    float64\n",
            " 4   Movie_length         506 non-null    float64\n",
            " 5   Lead_ Actor_Rating   506 non-null    float64\n",
            " 6   Lead_Actress_rating  506 non-null    float64\n",
            " 7   Director_rating      506 non-null    float64\n",
            " 8   Producer_rating      506 non-null    float64\n",
            " 9   Critic_rating        506 non-null    float64\n",
            " 10  Trailer_views        506 non-null    int64  \n",
            " 11  3D_available         506 non-null    object \n",
            " 12  Time_taken           494 non-null    float64\n",
            " 13  Twitter_hastags      506 non-null    float64\n",
            " 14  Genre                506 non-null    object \n",
            " 15  Avg_age_actors       506 non-null    int64  \n",
            " 16  Num_multiplex        506 non-null    int64  \n",
            " 17  Collection           506 non-null    int64  \n",
            " 18  Start_Tech_Oscar     506 non-null    int64  \n",
            "dtypes: float64(12), int64(5), object(2)\n",
            "memory usage: 75.2+ KB\n"
          ]
        }
      ]
    },
    {
      "cell_type": "code",
      "source": [
        "df['Time_taken'].mean()\n",
        "df['Time_taken'].fillna(value=df['Time_taken'].mean(), inplace=True)"
      ],
      "metadata": {
        "id": "nLeKS9n-uSwN"
      },
      "execution_count": null,
      "outputs": []
    },
    {
      "cell_type": "code",
      "source": [
        "df.info()"
      ],
      "metadata": {
        "colab": {
          "base_uri": "https://localhost:8080/"
        },
        "id": "rKpOUl8XuWta",
        "outputId": "aa24d70e-1f7f-4278-8a43-c0c73756d477"
      },
      "execution_count": null,
      "outputs": [
        {
          "output_type": "stream",
          "name": "stdout",
          "text": [
            "<class 'pandas.core.frame.DataFrame'>\n",
            "RangeIndex: 506 entries, 0 to 505\n",
            "Data columns (total 19 columns):\n",
            " #   Column               Non-Null Count  Dtype  \n",
            "---  ------               --------------  -----  \n",
            " 0   Marketing expense    506 non-null    float64\n",
            " 1   Production expense   506 non-null    float64\n",
            " 2   Multiplex coverage   506 non-null    float64\n",
            " 3   Budget               506 non-null    float64\n",
            " 4   Movie_length         506 non-null    float64\n",
            " 5   Lead_ Actor_Rating   506 non-null    float64\n",
            " 6   Lead_Actress_rating  506 non-null    float64\n",
            " 7   Director_rating      506 non-null    float64\n",
            " 8   Producer_rating      506 non-null    float64\n",
            " 9   Critic_rating        506 non-null    float64\n",
            " 10  Trailer_views        506 non-null    int64  \n",
            " 11  3D_available         506 non-null    object \n",
            " 12  Time_taken           506 non-null    float64\n",
            " 13  Twitter_hastags      506 non-null    float64\n",
            " 14  Genre                506 non-null    object \n",
            " 15  Avg_age_actors       506 non-null    int64  \n",
            " 16  Num_multiplex        506 non-null    int64  \n",
            " 17  Collection           506 non-null    int64  \n",
            " 18  Start_Tech_Oscar     506 non-null    int64  \n",
            "dtypes: float64(12), int64(5), object(2)\n",
            "memory usage: 75.2+ KB\n"
          ]
        }
      ]
    },
    {
      "cell_type": "markdown",
      "source": [
        "**Dummy** variable creation"
      ],
      "metadata": {
        "id": "O7BZiHMIua1a"
      }
    },
    {
      "cell_type": "code",
      "source": [
        "df=pd.get_dummies(df,columns=['3D_available','Genre'],drop_first=True)\n",
        "df.head()"
      ],
      "metadata": {
        "colab": {
          "base_uri": "https://localhost:8080/",
          "height": 317
        },
        "id": "yKY3oalNuaix",
        "outputId": "488b3c6e-06db-4a86-f033-48dc8f84685d"
      },
      "execution_count": null,
      "outputs": [
        {
          "output_type": "execute_result",
          "data": {
            "text/plain": [
              "   Marketing expense  Production expense  Multiplex coverage     Budget  \\\n",
              "0            20.1264               59.62               0.462  36524.125   \n",
              "1            20.5462               69.14               0.531  35668.655   \n",
              "2            20.5458               69.14               0.531  39912.675   \n",
              "3            20.6474               59.36               0.542  38873.890   \n",
              "4            21.3810               59.36               0.542  39701.585   \n",
              "\n",
              "   Movie_length  Lead_ Actor_Rating  Lead_Actress_rating  Director_rating  \\\n",
              "0         138.7               7.825                8.095            7.910   \n",
              "1         152.4               7.505                7.650            7.440   \n",
              "2         134.6               7.485                7.570            7.495   \n",
              "3         119.3               6.895                7.035            6.920   \n",
              "4         127.7               6.920                7.070            6.815   \n",
              "\n",
              "   Producer_rating  Critic_rating  ...  Time_taken  Twitter_hastags  \\\n",
              "0            7.995           7.94  ...      109.60          223.840   \n",
              "1            7.470           7.44  ...      146.64          243.456   \n",
              "2            7.515           7.44  ...      147.88         2022.400   \n",
              "3            7.020           8.26  ...      185.36          225.344   \n",
              "4            7.070           8.26  ...      176.48          225.792   \n",
              "\n",
              "   Avg_age_actors  Num_multiplex  Collection  Start_Tech_Oscar  \\\n",
              "0              23            494       48000                 1   \n",
              "1              42            462       43200                 0   \n",
              "2              38            458       69400                 1   \n",
              "3              45            472       66800                 1   \n",
              "4              55            395       72400                 1   \n",
              "\n",
              "   3D_available_YES  Genre_Comedy  Genre_Drama  Genre_Thriller  \n",
              "0                 1             0            0               1  \n",
              "1                 0             0            1               0  \n",
              "2                 0             1            0               0  \n",
              "3                 1             0            1               0  \n",
              "4                 0             0            1               0  \n",
              "\n",
              "[5 rows x 21 columns]"
            ],
            "text/html": [
              "\n",
              "  <div id=\"df-dcbe99df-5534-408a-adac-be3b0799e910\">\n",
              "    <div class=\"colab-df-container\">\n",
              "      <div>\n",
              "<style scoped>\n",
              "    .dataframe tbody tr th:only-of-type {\n",
              "        vertical-align: middle;\n",
              "    }\n",
              "\n",
              "    .dataframe tbody tr th {\n",
              "        vertical-align: top;\n",
              "    }\n",
              "\n",
              "    .dataframe thead th {\n",
              "        text-align: right;\n",
              "    }\n",
              "</style>\n",
              "<table border=\"1\" class=\"dataframe\">\n",
              "  <thead>\n",
              "    <tr style=\"text-align: right;\">\n",
              "      <th></th>\n",
              "      <th>Marketing expense</th>\n",
              "      <th>Production expense</th>\n",
              "      <th>Multiplex coverage</th>\n",
              "      <th>Budget</th>\n",
              "      <th>Movie_length</th>\n",
              "      <th>Lead_ Actor_Rating</th>\n",
              "      <th>Lead_Actress_rating</th>\n",
              "      <th>Director_rating</th>\n",
              "      <th>Producer_rating</th>\n",
              "      <th>Critic_rating</th>\n",
              "      <th>...</th>\n",
              "      <th>Time_taken</th>\n",
              "      <th>Twitter_hastags</th>\n",
              "      <th>Avg_age_actors</th>\n",
              "      <th>Num_multiplex</th>\n",
              "      <th>Collection</th>\n",
              "      <th>Start_Tech_Oscar</th>\n",
              "      <th>3D_available_YES</th>\n",
              "      <th>Genre_Comedy</th>\n",
              "      <th>Genre_Drama</th>\n",
              "      <th>Genre_Thriller</th>\n",
              "    </tr>\n",
              "  </thead>\n",
              "  <tbody>\n",
              "    <tr>\n",
              "      <th>0</th>\n",
              "      <td>20.1264</td>\n",
              "      <td>59.62</td>\n",
              "      <td>0.462</td>\n",
              "      <td>36524.125</td>\n",
              "      <td>138.7</td>\n",
              "      <td>7.825</td>\n",
              "      <td>8.095</td>\n",
              "      <td>7.910</td>\n",
              "      <td>7.995</td>\n",
              "      <td>7.94</td>\n",
              "      <td>...</td>\n",
              "      <td>109.60</td>\n",
              "      <td>223.840</td>\n",
              "      <td>23</td>\n",
              "      <td>494</td>\n",
              "      <td>48000</td>\n",
              "      <td>1</td>\n",
              "      <td>1</td>\n",
              "      <td>0</td>\n",
              "      <td>0</td>\n",
              "      <td>1</td>\n",
              "    </tr>\n",
              "    <tr>\n",
              "      <th>1</th>\n",
              "      <td>20.5462</td>\n",
              "      <td>69.14</td>\n",
              "      <td>0.531</td>\n",
              "      <td>35668.655</td>\n",
              "      <td>152.4</td>\n",
              "      <td>7.505</td>\n",
              "      <td>7.650</td>\n",
              "      <td>7.440</td>\n",
              "      <td>7.470</td>\n",
              "      <td>7.44</td>\n",
              "      <td>...</td>\n",
              "      <td>146.64</td>\n",
              "      <td>243.456</td>\n",
              "      <td>42</td>\n",
              "      <td>462</td>\n",
              "      <td>43200</td>\n",
              "      <td>0</td>\n",
              "      <td>0</td>\n",
              "      <td>0</td>\n",
              "      <td>1</td>\n",
              "      <td>0</td>\n",
              "    </tr>\n",
              "    <tr>\n",
              "      <th>2</th>\n",
              "      <td>20.5458</td>\n",
              "      <td>69.14</td>\n",
              "      <td>0.531</td>\n",
              "      <td>39912.675</td>\n",
              "      <td>134.6</td>\n",
              "      <td>7.485</td>\n",
              "      <td>7.570</td>\n",
              "      <td>7.495</td>\n",
              "      <td>7.515</td>\n",
              "      <td>7.44</td>\n",
              "      <td>...</td>\n",
              "      <td>147.88</td>\n",
              "      <td>2022.400</td>\n",
              "      <td>38</td>\n",
              "      <td>458</td>\n",
              "      <td>69400</td>\n",
              "      <td>1</td>\n",
              "      <td>0</td>\n",
              "      <td>1</td>\n",
              "      <td>0</td>\n",
              "      <td>0</td>\n",
              "    </tr>\n",
              "    <tr>\n",
              "      <th>3</th>\n",
              "      <td>20.6474</td>\n",
              "      <td>59.36</td>\n",
              "      <td>0.542</td>\n",
              "      <td>38873.890</td>\n",
              "      <td>119.3</td>\n",
              "      <td>6.895</td>\n",
              "      <td>7.035</td>\n",
              "      <td>6.920</td>\n",
              "      <td>7.020</td>\n",
              "      <td>8.26</td>\n",
              "      <td>...</td>\n",
              "      <td>185.36</td>\n",
              "      <td>225.344</td>\n",
              "      <td>45</td>\n",
              "      <td>472</td>\n",
              "      <td>66800</td>\n",
              "      <td>1</td>\n",
              "      <td>1</td>\n",
              "      <td>0</td>\n",
              "      <td>1</td>\n",
              "      <td>0</td>\n",
              "    </tr>\n",
              "    <tr>\n",
              "      <th>4</th>\n",
              "      <td>21.3810</td>\n",
              "      <td>59.36</td>\n",
              "      <td>0.542</td>\n",
              "      <td>39701.585</td>\n",
              "      <td>127.7</td>\n",
              "      <td>6.920</td>\n",
              "      <td>7.070</td>\n",
              "      <td>6.815</td>\n",
              "      <td>7.070</td>\n",
              "      <td>8.26</td>\n",
              "      <td>...</td>\n",
              "      <td>176.48</td>\n",
              "      <td>225.792</td>\n",
              "      <td>55</td>\n",
              "      <td>395</td>\n",
              "      <td>72400</td>\n",
              "      <td>1</td>\n",
              "      <td>0</td>\n",
              "      <td>0</td>\n",
              "      <td>1</td>\n",
              "      <td>0</td>\n",
              "    </tr>\n",
              "  </tbody>\n",
              "</table>\n",
              "<p>5 rows × 21 columns</p>\n",
              "</div>\n",
              "      <button class=\"colab-df-convert\" onclick=\"convertToInteractive('df-dcbe99df-5534-408a-adac-be3b0799e910')\"\n",
              "              title=\"Convert this dataframe to an interactive table.\"\n",
              "              style=\"display:none;\">\n",
              "        \n",
              "  <svg xmlns=\"http://www.w3.org/2000/svg\" height=\"24px\"viewBox=\"0 0 24 24\"\n",
              "       width=\"24px\">\n",
              "    <path d=\"M0 0h24v24H0V0z\" fill=\"none\"/>\n",
              "    <path d=\"M18.56 5.44l.94 2.06.94-2.06 2.06-.94-2.06-.94-.94-2.06-.94 2.06-2.06.94zm-11 1L8.5 8.5l.94-2.06 2.06-.94-2.06-.94L8.5 2.5l-.94 2.06-2.06.94zm10 10l.94 2.06.94-2.06 2.06-.94-2.06-.94-.94-2.06-.94 2.06-2.06.94z\"/><path d=\"M17.41 7.96l-1.37-1.37c-.4-.4-.92-.59-1.43-.59-.52 0-1.04.2-1.43.59L10.3 9.45l-7.72 7.72c-.78.78-.78 2.05 0 2.83L4 21.41c.39.39.9.59 1.41.59.51 0 1.02-.2 1.41-.59l7.78-7.78 2.81-2.81c.8-.78.8-2.07 0-2.86zM5.41 20L4 18.59l7.72-7.72 1.47 1.35L5.41 20z\"/>\n",
              "  </svg>\n",
              "      </button>\n",
              "      \n",
              "  <style>\n",
              "    .colab-df-container {\n",
              "      display:flex;\n",
              "      flex-wrap:wrap;\n",
              "      gap: 12px;\n",
              "    }\n",
              "\n",
              "    .colab-df-convert {\n",
              "      background-color: #E8F0FE;\n",
              "      border: none;\n",
              "      border-radius: 50%;\n",
              "      cursor: pointer;\n",
              "      display: none;\n",
              "      fill: #1967D2;\n",
              "      height: 32px;\n",
              "      padding: 0 0 0 0;\n",
              "      width: 32px;\n",
              "    }\n",
              "\n",
              "    .colab-df-convert:hover {\n",
              "      background-color: #E2EBFA;\n",
              "      box-shadow: 0px 1px 2px rgba(60, 64, 67, 0.3), 0px 1px 3px 1px rgba(60, 64, 67, 0.15);\n",
              "      fill: #174EA6;\n",
              "    }\n",
              "\n",
              "    [theme=dark] .colab-df-convert {\n",
              "      background-color: #3B4455;\n",
              "      fill: #D2E3FC;\n",
              "    }\n",
              "\n",
              "    [theme=dark] .colab-df-convert:hover {\n",
              "      background-color: #434B5C;\n",
              "      box-shadow: 0px 1px 3px 1px rgba(0, 0, 0, 0.15);\n",
              "      filter: drop-shadow(0px 1px 2px rgba(0, 0, 0, 0.3));\n",
              "      fill: #FFFFFF;\n",
              "    }\n",
              "  </style>\n",
              "\n",
              "      <script>\n",
              "        const buttonEl =\n",
              "          document.querySelector('#df-dcbe99df-5534-408a-adac-be3b0799e910 button.colab-df-convert');\n",
              "        buttonEl.style.display =\n",
              "          google.colab.kernel.accessAllowed ? 'block' : 'none';\n",
              "\n",
              "        async function convertToInteractive(key) {\n",
              "          const element = document.querySelector('#df-dcbe99df-5534-408a-adac-be3b0799e910');\n",
              "          const dataTable =\n",
              "            await google.colab.kernel.invokeFunction('convertToInteractive',\n",
              "                                                     [key], {});\n",
              "          if (!dataTable) return;\n",
              "\n",
              "          const docLinkHtml = 'Like what you see? Visit the ' +\n",
              "            '<a target=\"_blank\" href=https://colab.research.google.com/notebooks/data_table.ipynb>data table notebook</a>'\n",
              "            + ' to learn more about interactive tables.';\n",
              "          element.innerHTML = '';\n",
              "          dataTable['output_type'] = 'display_data';\n",
              "          await google.colab.output.renderOutput(dataTable, element);\n",
              "          const docLink = document.createElement('div');\n",
              "          docLink.innerHTML = docLinkHtml;\n",
              "          element.appendChild(docLink);\n",
              "        }\n",
              "      </script>\n",
              "    </div>\n",
              "  </div>\n",
              "  "
            ]
          },
          "metadata": {},
          "execution_count": 7
        }
      ]
    },
    {
      "cell_type": "markdown",
      "source": [
        "X-Y Split"
      ],
      "metadata": {
        "id": "DRFgTYS0uhbA"
      }
    },
    {
      "cell_type": "code",
      "source": [
        "x=df.loc[:,df.columns!='Start_Tech_Oscar']\n",
        "y=df['Start_Tech_Oscar']\n",
        "type(x)"
      ],
      "metadata": {
        "colab": {
          "base_uri": "https://localhost:8080/"
        },
        "id": "v1IrleInuiC1",
        "outputId": "ac1188d8-3e64-4835-cf3b-b08f5936eac8"
      },
      "execution_count": null,
      "outputs": [
        {
          "output_type": "execute_result",
          "data": {
            "text/plain": [
              "pandas.core.frame.DataFrame"
            ]
          },
          "metadata": {},
          "execution_count": 8
        }
      ]
    },
    {
      "cell_type": "markdown",
      "source": [
        "  Test-Train split"
      ],
      "metadata": {
        "id": "DRPqzz9mutD9"
      }
    },
    {
      "cell_type": "code",
      "source": [
        "from sklearn.model_selection import train_test_split"
      ],
      "metadata": {
        "id": "P6WrfcVLut3X"
      },
      "execution_count": null,
      "outputs": []
    },
    {
      "cell_type": "code",
      "source": [
        "x_train,x_test,y_train,y_test=train_test_split(x,y,test_size=0.2, random_state=0)"
      ],
      "metadata": {
        "id": "BQ0K6zhBuzEj"
      },
      "execution_count": null,
      "outputs": []
    },
    {
      "cell_type": "code",
      "source": [
        "print(x_train.shape,y_train.shape, x_test.shape, y_test.shape)"
      ],
      "metadata": {
        "colab": {
          "base_uri": "https://localhost:8080/"
        },
        "id": "ZIzpitqFu2FN",
        "outputId": "62b46bc8-45e6-4ddd-fa51-6ffdccf21200"
      },
      "execution_count": null,
      "outputs": [
        {
          "output_type": "stream",
          "name": "stdout",
          "text": [
            "(404, 20) (404,) (102, 20) (102,)\n"
          ]
        }
      ]
    },
    {
      "cell_type": "markdown",
      "source": [
        "**Standardizing Data**"
      ],
      "metadata": {
        "id": "Mt1PDzitwaya"
      }
    },
    {
      "cell_type": "code",
      "source": [
        "from sklearn.preprocessing import StandardScaler"
      ],
      "metadata": {
        "id": "MUkmf6yCwgR3"
      },
      "execution_count": null,
      "outputs": []
    },
    {
      "cell_type": "code",
      "source": [
        "sc=StandardScaler().fit(x_train)"
      ],
      "metadata": {
        "id": "R1s7UnJrw6nU"
      },
      "execution_count": null,
      "outputs": []
    },
    {
      "cell_type": "code",
      "source": [
        "x_train_std=sc.transform(x_train)"
      ],
      "metadata": {
        "id": "7hRt5V1LxCya"
      },
      "execution_count": null,
      "outputs": []
    },
    {
      "cell_type": "code",
      "source": [
        "x_test_std=sc.transform(x_test)"
      ],
      "metadata": {
        "id": "UYsNzAG8xFVw"
      },
      "execution_count": null,
      "outputs": []
    },
    {
      "cell_type": "code",
      "source": [
        "x_test_std"
      ],
      "metadata": {
        "colab": {
          "base_uri": "https://localhost:8080/"
        },
        "id": "WhMECHu4xIj4",
        "outputId": "a7bc6d72-1024-43e0-a86b-2f2ee4b61431"
      },
      "execution_count": null,
      "outputs": [
        {
          "output_type": "execute_result",
          "data": {
            "text/plain": [
              "array([[-0.40835869, -1.12872913,  0.83336883, ...,  1.50268577,\n",
              "        -0.48525664, -0.75225758],\n",
              "       [ 0.71925111,  0.9988844 , -0.65283979, ...,  1.50268577,\n",
              "        -0.48525664, -0.75225758],\n",
              "       [-0.40257488,  0.39610829,  0.05115377, ...,  1.50268577,\n",
              "        -0.48525664, -0.75225758],\n",
              "       ...,\n",
              "       [-0.3982601 , -0.85812418,  0.89420778, ..., -0.66547513,\n",
              "        -0.48525664,  1.3293319 ],\n",
              "       [-0.39934279, -0.07637654,  0.58132175, ...,  1.50268577,\n",
              "        -0.48525664, -0.75225758],\n",
              "       [-0.40088071, -0.36702631,  0.31189212, ..., -0.66547513,\n",
              "        -0.48525664, -0.75225758]])"
            ]
          },
          "metadata": {},
          "execution_count": 16
        }
      ]
    },
    {
      "cell_type": "markdown",
      "source": [
        "Training SVM"
      ],
      "metadata": {
        "id": "aGuwnomMxKle"
      }
    },
    {
      "cell_type": "code",
      "source": [
        "from sklearn import svm"
      ],
      "metadata": {
        "id": "TpdfHVNSxKWE"
      },
      "execution_count": null,
      "outputs": []
    },
    {
      "cell_type": "code",
      "source": [
        "clf_svm_l=svm.SVC(kernel='linear', C=0.01)\n",
        "clf_svm_l.fit(x_train_std,y_train)"
      ],
      "metadata": {
        "colab": {
          "base_uri": "https://localhost:8080/"
        },
        "id": "nlDG53z9xdU1",
        "outputId": "8fe367b5-7ea0-475b-e2b4-23688521d22e"
      },
      "execution_count": null,
      "outputs": [
        {
          "output_type": "execute_result",
          "data": {
            "text/plain": [
              "SVC(C=0.01, kernel='linear')"
            ]
          },
          "metadata": {},
          "execution_count": 18
        }
      ]
    },
    {
      "cell_type": "markdown",
      "source": [
        "Predict values using trained model"
      ],
      "metadata": {
        "id": "TvVMsgY6xwNj"
      }
    },
    {
      "cell_type": "code",
      "source": [
        "y_train_pred=clf_svm_l.predict(x_train_std)\n",
        "y_test_pred=clf_svm_l.predict(x_test_std)"
      ],
      "metadata": {
        "id": "3ApbT3Ovx0vZ"
      },
      "execution_count": null,
      "outputs": []
    },
    {
      "cell_type": "code",
      "source": [
        "y_test_pred"
      ],
      "metadata": {
        "colab": {
          "base_uri": "https://localhost:8080/"
        },
        "id": "uWvIa8gMyBac",
        "outputId": "5232be53-2457-4d6d-bb0a-be432c0e1df0"
      },
      "execution_count": null,
      "outputs": [
        {
          "output_type": "execute_result",
          "data": {
            "text/plain": [
              "array([1, 1, 1, 0, 1, 1, 1, 1, 1, 1, 0, 1, 1, 1, 1, 1, 0, 1, 1, 1, 1, 0,\n",
              "       1, 1, 0, 1, 1, 1, 1, 1, 1, 1, 1, 1, 1, 1, 1, 1, 0, 1, 1, 1, 0, 1,\n",
              "       1, 1, 1, 1, 1, 1, 0, 1, 1, 1, 1, 1, 1, 1, 0, 1, 1, 1, 1, 1, 1, 1,\n",
              "       1, 1, 1, 1, 1, 1, 0, 0, 1, 1, 1, 1, 1, 1, 1, 1, 1, 1, 1, 1, 0, 0,\n",
              "       1, 1, 1, 1, 1, 1, 0, 1, 1, 1, 0, 1, 1, 0])"
            ]
          },
          "metadata": {},
          "execution_count": 20
        }
      ]
    },
    {
      "cell_type": "markdown",
      "source": [
        "Model Performance"
      ],
      "metadata": {
        "id": "GGjPMXddyWVB"
      }
    },
    {
      "cell_type": "code",
      "source": [
        "from sklearn.metrics import accuracy_score, confusion_matrix"
      ],
      "metadata": {
        "id": "8p8lM-LlyW0-"
      },
      "execution_count": null,
      "outputs": []
    },
    {
      "cell_type": "code",
      "source": [
        "confusion_matrix(y_test,y_test_pred)"
      ],
      "metadata": {
        "colab": {
          "base_uri": "https://localhost:8080/"
        },
        "id": "BgCKU1Ctya5A",
        "outputId": "be8ef1ad-701c-423e-d4f7-f9922d198e03"
      },
      "execution_count": null,
      "outputs": [
        {
          "output_type": "execute_result",
          "data": {
            "text/plain": [
              "array([[11, 33],\n",
              "       [ 5, 53]])"
            ]
          },
          "metadata": {},
          "execution_count": 22
        }
      ]
    },
    {
      "cell_type": "code",
      "source": [
        "accuracy_score(y_test,y_test_pred)"
      ],
      "metadata": {
        "colab": {
          "base_uri": "https://localhost:8080/"
        },
        "id": "R9TM_wJ6ycXv",
        "outputId": "83a7f8e2-d345-4ced-9f76-ec3b789d4d75"
      },
      "execution_count": null,
      "outputs": [
        {
          "output_type": "execute_result",
          "data": {
            "text/plain": [
              "0.6274509803921569"
            ]
          },
          "metadata": {},
          "execution_count": 23
        }
      ]
    },
    {
      "cell_type": "code",
      "source": [
        "clf_svm_l.n_support_"
      ],
      "metadata": {
        "colab": {
          "base_uri": "https://localhost:8080/"
        },
        "id": "GEsJg0Kjyfhz",
        "outputId": "0cf68dc4-1f7e-423d-934d-2e0df66d29de"
      },
      "execution_count": null,
      "outputs": [
        {
          "output_type": "execute_result",
          "data": {
            "text/plain": [
              "array([186, 189], dtype=int32)"
            ]
          },
          "metadata": {},
          "execution_count": 24
        }
      ]
    },
    {
      "cell_type": "code",
      "source": [
        ""
      ],
      "metadata": {
        "id": "UvrNDnjvTF7O"
      },
      "execution_count": null,
      "outputs": []
    },
    {
      "cell_type": "markdown",
      "source": [
        "**Grid Search**"
      ],
      "metadata": {
        "id": "h9OuuAR_UgVa"
      }
    },
    {
      "cell_type": "code",
      "source": [
        "from sklearn.model_selection import GridSearchCV"
      ],
      "metadata": {
        "id": "lz8yqlDjU6oK"
      },
      "execution_count": null,
      "outputs": []
    },
    {
      "cell_type": "code",
      "source": [
        "params={'C':(0.001,0.005,0.01,0.05,0.1,0.5,1,5,10,50,100,500,1000)}"
      ],
      "metadata": {
        "id": "2oidzwaTVBou"
      },
      "execution_count": null,
      "outputs": []
    },
    {
      "cell_type": "code",
      "source": [
        "clf_svm_l=svm.SVC(kernel='linear')"
      ],
      "metadata": {
        "id": "YaVsSO_QVLGn"
      },
      "execution_count": null,
      "outputs": []
    },
    {
      "cell_type": "code",
      "source": [
        "svm_grid_lin=GridSearchCV(clf_svm_l,params,n_jobs=-1,cv=10,verbose=1,scoring='accuracy')"
      ],
      "metadata": {
        "id": "bGJSDB3GVP2M"
      },
      "execution_count": null,
      "outputs": []
    },
    {
      "cell_type": "code",
      "source": [
        "svm_grid_lin.fit(x_train_std,y_train)"
      ],
      "metadata": {
        "colab": {
          "base_uri": "https://localhost:8080/"
        },
        "id": "01D-uKRUVeAC",
        "outputId": "136268e7-859d-49a4-f490-25df7f7f320f"
      },
      "execution_count": null,
      "outputs": [
        {
          "output_type": "stream",
          "name": "stdout",
          "text": [
            "Fitting 10 folds for each of 11 candidates, totalling 110 fits\n"
          ]
        },
        {
          "output_type": "execute_result",
          "data": {
            "text/plain": [
              "GridSearchCV(cv=10, estimator=SVC(kernel='linear'), n_jobs=-1,\n",
              "             param_grid={'C': (0.001, 0.005, 0.05, 0.1, 0.5, 1, 5, 10, 100, 500,\n",
              "                               1000)},\n",
              "             scoring='accuracy', verbose=2)"
            ]
          },
          "metadata": {},
          "execution_count": 35
        }
      ]
    },
    {
      "cell_type": "code",
      "source": [
        "svm_grid_lin.best_params_"
      ],
      "metadata": {
        "colab": {
          "base_uri": "https://localhost:8080/"
        },
        "id": "Hg8AIkoBWH4X",
        "outputId": "af432a4a-9f79-47e5-ba78-658f153c0631"
      },
      "execution_count": null,
      "outputs": [
        {
          "output_type": "execute_result",
          "data": {
            "text/plain": [
              "{'C': 0.1}"
            ]
          },
          "metadata": {},
          "execution_count": 36
        }
      ]
    },
    {
      "cell_type": "code",
      "source": [
        "linsvm_clf=svm_grid_lin.best_estimator_"
      ],
      "metadata": {
        "id": "1HgEkVhPWLrR"
      },
      "execution_count": null,
      "outputs": []
    },
    {
      "cell_type": "code",
      "source": [
        "accuracy_score(y_test,linsvm_clf.predict(x_test_std))"
      ],
      "metadata": {
        "colab": {
          "base_uri": "https://localhost:8080/"
        },
        "id": "QAQsLLZ8WSOF",
        "outputId": "f008fc34-edc0-4328-a658-a7cdc436b56e"
      },
      "execution_count": null,
      "outputs": [
        {
          "output_type": "execute_result",
          "data": {
            "text/plain": [
              "0.5980392156862745"
            ]
          },
          "metadata": {},
          "execution_count": 38
        }
      ]
    },
    {
      "cell_type": "markdown",
      "source": [
        "**Polynomial**"
      ],
      "metadata": {
        "id": "PFNxhNzwdD44"
      }
    },
    {
      "cell_type": "code",
      "source": [
        "clf_svm_p3=svm.SVC(kernel='poly', degree=2, C=0.1)\n",
        "clf_svm_p3.fit(x_train_std, y_train)"
      ],
      "metadata": {
        "colab": {
          "base_uri": "https://localhost:8080/"
        },
        "id": "_Q8UIikNdJyx",
        "outputId": "8984c500-27c6-4607-92c6-d5d7099d818a"
      },
      "execution_count": null,
      "outputs": [
        {
          "output_type": "execute_result",
          "data": {
            "text/plain": [
              "SVC(C=0.1, degree=2, kernel='poly')"
            ]
          },
          "metadata": {},
          "execution_count": 39
        }
      ]
    },
    {
      "cell_type": "code",
      "source": [
        "y_train_pred=clf_svm_p3.predict(x_train_std)\n",
        "y_test_pred=clf_svm_p3.predict(x_test_std)"
      ],
      "metadata": {
        "id": "-RM1_487daAd"
      },
      "execution_count": null,
      "outputs": []
    },
    {
      "cell_type": "code",
      "source": [
        "accuracy_score(y_test,y_test_pred)"
      ],
      "metadata": {
        "colab": {
          "base_uri": "https://localhost:8080/"
        },
        "id": "dbGSXBvkdlKe",
        "outputId": "3131f86c-25f4-4a38-bc2a-8ce7a98c2e17"
      },
      "execution_count": null,
      "outputs": [
        {
          "output_type": "execute_result",
          "data": {
            "text/plain": [
              "0.5588235294117647"
            ]
          },
          "metadata": {},
          "execution_count": 41
        }
      ]
    },
    {
      "cell_type": "code",
      "source": [
        "clf_svm_p3.n_support_"
      ],
      "metadata": {
        "colab": {
          "base_uri": "https://localhost:8080/"
        },
        "id": "8-jhJBufdqr7",
        "outputId": "fa07b464-ae7b-45e2-dee3-ffdae3735f52"
      },
      "execution_count": null,
      "outputs": [
        {
          "output_type": "execute_result",
          "data": {
            "text/plain": [
              "array([185, 194], dtype=int32)"
            ]
          },
          "metadata": {},
          "execution_count": 42
        }
      ]
    },
    {
      "cell_type": "markdown",
      "source": [
        "**Radial**"
      ],
      "metadata": {
        "id": "ukQJiOwDeotR"
      }
    },
    {
      "cell_type": "code",
      "source": [
        "clf_svm_r=svm.SVC(kernel='rbf', gamma=0.5,C=10)\n",
        "clf_svm_r.fit(x_train_std,y_train)"
      ],
      "metadata": {
        "colab": {
          "base_uri": "https://localhost:8080/"
        },
        "id": "FfI8Xc2_eqit",
        "outputId": "267df568-1ab8-4628-d616-7c5e918034cf"
      },
      "execution_count": null,
      "outputs": [
        {
          "output_type": "execute_result",
          "data": {
            "text/plain": [
              "SVC(C=10, gamma=0.5)"
            ]
          },
          "metadata": {},
          "execution_count": 44
        }
      ]
    },
    {
      "cell_type": "code",
      "source": [
        "y_train_pred=clf_svm_r.predict(x_train_std)\n",
        "y_test_pred=clf_svm_r.predict(x_test_std)"
      ],
      "metadata": {
        "id": "tSpSL0Jye2qp"
      },
      "execution_count": null,
      "outputs": []
    },
    {
      "cell_type": "code",
      "source": [
        "accuracy_score(y_test,y_test_pred)"
      ],
      "metadata": {
        "colab": {
          "base_uri": "https://localhost:8080/"
        },
        "id": "Tm3tvzs1e_7Q",
        "outputId": "b432340f-f250-4823-de98-b601a7dbcfc8"
      },
      "execution_count": null,
      "outputs": [
        {
          "output_type": "execute_result",
          "data": {
            "text/plain": [
              "0.6176470588235294"
            ]
          },
          "metadata": {},
          "execution_count": 46
        }
      ]
    },
    {
      "cell_type": "code",
      "source": [
        "clf_svm_r.n_support_"
      ],
      "metadata": {
        "colab": {
          "base_uri": "https://localhost:8080/"
        },
        "id": "5iMU1YaffDzn",
        "outputId": "db3cfe14-33bd-4cba-b7ae-c46fc858de79"
      },
      "execution_count": null,
      "outputs": [
        {
          "output_type": "execute_result",
          "data": {
            "text/plain": [
              "array([186, 218], dtype=int32)"
            ]
          },
          "metadata": {},
          "execution_count": 47
        }
      ]
    },
    {
      "cell_type": "markdown",
      "source": [
        "**Radial Grid**"
      ],
      "metadata": {
        "id": "SsP7r7FZglQU"
      }
    },
    {
      "cell_type": "code",
      "source": [
        "params={'C':(0.01,0.05,0.1,0.5,1,5.10,50),\n",
        "         'gamma':(0.001,0.01,0.1,0.5,1)}"
      ],
      "metadata": {
        "id": "vEfO2CMcgnys"
      },
      "execution_count": null,
      "outputs": []
    },
    {
      "cell_type": "code",
      "source": [
        "clf_svm_r=svm.SVC(kernel='rbf')"
      ],
      "metadata": {
        "id": "-43jRhccg3J2"
      },
      "execution_count": null,
      "outputs": []
    },
    {
      "cell_type": "code",
      "source": [
        "svm_grid_rad=GridSearchCV(clf_svm_r,params,n_jobs=-1, cv=3,verbose=1,scoring='accuracy')"
      ],
      "metadata": {
        "id": "IsvARhuig9zL"
      },
      "execution_count": null,
      "outputs": []
    },
    {
      "cell_type": "code",
      "source": [
        "svm_grid_rad.fit(x_train_std,y_train)"
      ],
      "metadata": {
        "colab": {
          "base_uri": "https://localhost:8080/"
        },
        "id": "0hVYvabRhL7r",
        "outputId": "822871b8-c2a0-4bf9-a556-cd8b01f74a77"
      },
      "execution_count": null,
      "outputs": [
        {
          "output_type": "stream",
          "name": "stdout",
          "text": [
            "Fitting 3 folds for each of 35 candidates, totalling 105 fits\n"
          ]
        },
        {
          "output_type": "execute_result",
          "data": {
            "text/plain": [
              "GridSearchCV(cv=3, estimator=SVC(), n_jobs=-1,\n",
              "             param_grid={'C': (0.01, 0.05, 0.1, 0.5, 1, 5.1, 50),\n",
              "                         'gamma': (0.001, 0.01, 0.1, 0.5, 1)},\n",
              "             scoring='accuracy', verbose=1)"
            ]
          },
          "metadata": {},
          "execution_count": 57
        }
      ]
    },
    {
      "cell_type": "code",
      "source": [
        "svm_grid_rad.best_params_"
      ],
      "metadata": {
        "colab": {
          "base_uri": "https://localhost:8080/"
        },
        "id": "xrhmuO4thRI-",
        "outputId": "1b75e377-e4be-479b-9b2f-510b12af65a7"
      },
      "execution_count": null,
      "outputs": [
        {
          "output_type": "execute_result",
          "data": {
            "text/plain": [
              "{'C': 50, 'gamma': 0.001}"
            ]
          },
          "metadata": {},
          "execution_count": 58
        }
      ]
    },
    {
      "cell_type": "code",
      "source": [
        "radsvm_clf=svm_grid_rad.best_estimator_"
      ],
      "metadata": {
        "id": "DrUHhUy0h_GZ"
      },
      "execution_count": null,
      "outputs": []
    },
    {
      "cell_type": "code",
      "source": [
        "accuracy_score(y_test, radsvm_clf.predict(x_test_std))"
      ],
      "metadata": {
        "colab": {
          "base_uri": "https://localhost:8080/"
        },
        "id": "ug7buLDtiFhJ",
        "outputId": "f71d9f2c-1b72-401a-8ed2-a63e5d411754"
      },
      "execution_count": null,
      "outputs": [
        {
          "output_type": "execute_result",
          "data": {
            "text/plain": [
              "0.6176470588235294"
            ]
          },
          "metadata": {},
          "execution_count": 61
        }
      ]
    },
    {
      "cell_type": "code",
      "source": [
        ""
      ],
      "metadata": {
        "id": "mYp7RDJbiNfO"
      },
      "execution_count": null,
      "outputs": []
    }
  ]
}